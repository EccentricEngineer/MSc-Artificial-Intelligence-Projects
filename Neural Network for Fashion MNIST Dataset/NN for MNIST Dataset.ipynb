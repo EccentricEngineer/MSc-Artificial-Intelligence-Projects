{
  "cells": [
    {
      "cell_type": "markdown",
      "source": [
        "# Instructions to run the notebook: \n",
        "1. Run the first cell which includes files.upload()\n",
        "2. Click choose files and select the files from your local machine \n",
        "3. Make sure the file names are exactly the same as downloaded from kaggle.\n",
        "\n",
        "fashion-mnist_test.csv\n",
        "fashion-mnist_train.csv"
      ],
      "metadata": {
        "id": "lyWAnyjzQdlF"
      }
    },
    {
      "cell_type": "markdown",
      "metadata": {
        "id": "m2pYjyuibV4g"
      },
      "source": [
        "# Part 1: Data analysis and splitting\n",
        "\n"
      ]
    },
    {
      "cell_type": "code",
      "execution_count": 3,
      "metadata": {
        "colab": {
          "base_uri": "https://localhost:8080/",
          "height": 109,
          "resources": {
            "http://localhost:8080/nbextensions/google.colab/files.js": {
              "data": "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",
              "headers": [
                [
                  "content-type",
                  "application/javascript"
                ]
              ],
              "ok": true,
              "status": 200,
              "status_text": ""
            }
          }
        },
        "id": "czVtszj9gucy",
        "outputId": "36ff50fd-8ab4-4aac-c3af-89af833777e1"
      },
      "outputs": [
        {
          "output_type": "display_data",
          "data": {
            "text/html": [
              "\n",
              "     <input type=\"file\" id=\"files-2904f21d-dc1b-4b97-bfaf-04562b088a12\" name=\"files[]\" multiple disabled\n",
              "        style=\"border:none\" />\n",
              "     <output id=\"result-2904f21d-dc1b-4b97-bfaf-04562b088a12\">\n",
              "      Upload widget is only available when the cell has been executed in the\n",
              "      current browser session. Please rerun this cell to enable.\n",
              "      </output>\n",
              "      <script src=\"/nbextensions/google.colab/files.js\"></script> "
            ],
            "text/plain": [
              "<IPython.core.display.HTML object>"
            ]
          },
          "metadata": {}
        },
        {
          "output_type": "stream",
          "name": "stdout",
          "text": [
            "Saving fashion-mnist_test.csv to fashion-mnist_test.csv\n",
            "Saving fashion-mnist_train.csv to fashion-mnist_train.csv\n"
          ]
        }
      ],
      "source": [
        "# load local csv\n",
        "from google.colab import files\n",
        "uploaded = files.upload()"
      ]
    },
    {
      "cell_type": "code",
      "execution_count": 4,
      "metadata": {
        "id": "PW1qkWiGc1DM"
      },
      "outputs": [],
      "source": [
        "# import packages\n",
        "import io\n",
        "\n",
        "import pandas as pd\n",
        "import numpy as np\n",
        "import matplotlib.pyplot as plt\n",
        "\n",
        "from sklearn.model_selection import train_test_split\n",
        "\n",
        "import keras\n",
        "from keras.models import Sequential\n",
        "from keras.layers import Conv2D,MaxPooling2D,Dense,Flatten,Dropout\n",
        "from tensorflow.keras.optimizers import SGD"
      ]
    },
    {
      "cell_type": "code",
      "execution_count": 5,
      "metadata": {
        "id": "OifooSe2dATd"
      },
      "outputs": [],
      "source": [
        "# read in the dataset\n",
        "test_df = pd.read_csv(io.BytesIO(uploaded[\"fashion-mnist_test.csv\"]))\n",
        "train_df = pd.read_csv(io.BytesIO(uploaded[\"fashion-mnist_train.csv\"]))"
      ]
    },
    {
      "cell_type": "code",
      "execution_count": 6,
      "metadata": {
        "id": "q4FpFVHqiaUZ",
        "colab": {
          "base_uri": "https://localhost:8080/",
          "height": 299
        },
        "outputId": "b4d7f267-a520-4f03-a194-f44f8b376393"
      },
      "outputs": [
        {
          "output_type": "execute_result",
          "data": {
            "text/html": [
              "\n",
              "  <div id=\"df-b9fc9d10-0301-4705-8bf5-c94746013a77\">\n",
              "    <div class=\"colab-df-container\">\n",
              "      <div>\n",
              "<style scoped>\n",
              "    .dataframe tbody tr th:only-of-type {\n",
              "        vertical-align: middle;\n",
              "    }\n",
              "\n",
              "    .dataframe tbody tr th {\n",
              "        vertical-align: top;\n",
              "    }\n",
              "\n",
              "    .dataframe thead th {\n",
              "        text-align: right;\n",
              "    }\n",
              "</style>\n",
              "<table border=\"1\" class=\"dataframe\">\n",
              "  <thead>\n",
              "    <tr style=\"text-align: right;\">\n",
              "      <th></th>\n",
              "      <th>label</th>\n",
              "      <th>pixel1</th>\n",
              "      <th>pixel2</th>\n",
              "      <th>pixel3</th>\n",
              "      <th>pixel4</th>\n",
              "      <th>pixel5</th>\n",
              "      <th>pixel6</th>\n",
              "      <th>pixel7</th>\n",
              "      <th>pixel8</th>\n",
              "      <th>pixel9</th>\n",
              "      <th>pixel10</th>\n",
              "      <th>pixel11</th>\n",
              "      <th>pixel12</th>\n",
              "      <th>pixel13</th>\n",
              "      <th>pixel14</th>\n",
              "      <th>pixel15</th>\n",
              "      <th>pixel16</th>\n",
              "      <th>pixel17</th>\n",
              "      <th>pixel18</th>\n",
              "      <th>pixel19</th>\n",
              "      <th>pixel20</th>\n",
              "      <th>pixel21</th>\n",
              "      <th>pixel22</th>\n",
              "      <th>pixel23</th>\n",
              "      <th>pixel24</th>\n",
              "      <th>pixel25</th>\n",
              "      <th>pixel26</th>\n",
              "      <th>pixel27</th>\n",
              "      <th>pixel28</th>\n",
              "      <th>pixel29</th>\n",
              "      <th>pixel30</th>\n",
              "      <th>pixel31</th>\n",
              "      <th>pixel32</th>\n",
              "      <th>pixel33</th>\n",
              "      <th>pixel34</th>\n",
              "      <th>pixel35</th>\n",
              "      <th>pixel36</th>\n",
              "      <th>pixel37</th>\n",
              "      <th>pixel38</th>\n",
              "      <th>pixel39</th>\n",
              "      <th>...</th>\n",
              "      <th>pixel745</th>\n",
              "      <th>pixel746</th>\n",
              "      <th>pixel747</th>\n",
              "      <th>pixel748</th>\n",
              "      <th>pixel749</th>\n",
              "      <th>pixel750</th>\n",
              "      <th>pixel751</th>\n",
              "      <th>pixel752</th>\n",
              "      <th>pixel753</th>\n",
              "      <th>pixel754</th>\n",
              "      <th>pixel755</th>\n",
              "      <th>pixel756</th>\n",
              "      <th>pixel757</th>\n",
              "      <th>pixel758</th>\n",
              "      <th>pixel759</th>\n",
              "      <th>pixel760</th>\n",
              "      <th>pixel761</th>\n",
              "      <th>pixel762</th>\n",
              "      <th>pixel763</th>\n",
              "      <th>pixel764</th>\n",
              "      <th>pixel765</th>\n",
              "      <th>pixel766</th>\n",
              "      <th>pixel767</th>\n",
              "      <th>pixel768</th>\n",
              "      <th>pixel769</th>\n",
              "      <th>pixel770</th>\n",
              "      <th>pixel771</th>\n",
              "      <th>pixel772</th>\n",
              "      <th>pixel773</th>\n",
              "      <th>pixel774</th>\n",
              "      <th>pixel775</th>\n",
              "      <th>pixel776</th>\n",
              "      <th>pixel777</th>\n",
              "      <th>pixel778</th>\n",
              "      <th>pixel779</th>\n",
              "      <th>pixel780</th>\n",
              "      <th>pixel781</th>\n",
              "      <th>pixel782</th>\n",
              "      <th>pixel783</th>\n",
              "      <th>pixel784</th>\n",
              "    </tr>\n",
              "  </thead>\n",
              "  <tbody>\n",
              "    <tr>\n",
              "      <th>0</th>\n",
              "      <td>2</td>\n",
              "      <td>0</td>\n",
              "      <td>0</td>\n",
              "      <td>0</td>\n",
              "      <td>0</td>\n",
              "      <td>0</td>\n",
              "      <td>0</td>\n",
              "      <td>0</td>\n",
              "      <td>0</td>\n",
              "      <td>0</td>\n",
              "      <td>0</td>\n",
              "      <td>0</td>\n",
              "      <td>0</td>\n",
              "      <td>0</td>\n",
              "      <td>0</td>\n",
              "      <td>0</td>\n",
              "      <td>0</td>\n",
              "      <td>0</td>\n",
              "      <td>0</td>\n",
              "      <td>0</td>\n",
              "      <td>0</td>\n",
              "      <td>0</td>\n",
              "      <td>0</td>\n",
              "      <td>0</td>\n",
              "      <td>0</td>\n",
              "      <td>0</td>\n",
              "      <td>0</td>\n",
              "      <td>0</td>\n",
              "      <td>0</td>\n",
              "      <td>0</td>\n",
              "      <td>0</td>\n",
              "      <td>0</td>\n",
              "      <td>0</td>\n",
              "      <td>0</td>\n",
              "      <td>0</td>\n",
              "      <td>0</td>\n",
              "      <td>0</td>\n",
              "      <td>0</td>\n",
              "      <td>0</td>\n",
              "      <td>0</td>\n",
              "      <td>...</td>\n",
              "      <td>0</td>\n",
              "      <td>0</td>\n",
              "      <td>0</td>\n",
              "      <td>0</td>\n",
              "      <td>0</td>\n",
              "      <td>0</td>\n",
              "      <td>0</td>\n",
              "      <td>0</td>\n",
              "      <td>0</td>\n",
              "      <td>0</td>\n",
              "      <td>0</td>\n",
              "      <td>0</td>\n",
              "      <td>0</td>\n",
              "      <td>0</td>\n",
              "      <td>0</td>\n",
              "      <td>0</td>\n",
              "      <td>0</td>\n",
              "      <td>0</td>\n",
              "      <td>0</td>\n",
              "      <td>0</td>\n",
              "      <td>0</td>\n",
              "      <td>0</td>\n",
              "      <td>0</td>\n",
              "      <td>0</td>\n",
              "      <td>0</td>\n",
              "      <td>0</td>\n",
              "      <td>0</td>\n",
              "      <td>0</td>\n",
              "      <td>0</td>\n",
              "      <td>0</td>\n",
              "      <td>0</td>\n",
              "      <td>0</td>\n",
              "      <td>0</td>\n",
              "      <td>0</td>\n",
              "      <td>0</td>\n",
              "      <td>0</td>\n",
              "      <td>0</td>\n",
              "      <td>0</td>\n",
              "      <td>0</td>\n",
              "      <td>0</td>\n",
              "    </tr>\n",
              "    <tr>\n",
              "      <th>1</th>\n",
              "      <td>9</td>\n",
              "      <td>0</td>\n",
              "      <td>0</td>\n",
              "      <td>0</td>\n",
              "      <td>0</td>\n",
              "      <td>0</td>\n",
              "      <td>0</td>\n",
              "      <td>0</td>\n",
              "      <td>0</td>\n",
              "      <td>0</td>\n",
              "      <td>0</td>\n",
              "      <td>0</td>\n",
              "      <td>0</td>\n",
              "      <td>0</td>\n",
              "      <td>0</td>\n",
              "      <td>0</td>\n",
              "      <td>0</td>\n",
              "      <td>0</td>\n",
              "      <td>0</td>\n",
              "      <td>0</td>\n",
              "      <td>0</td>\n",
              "      <td>0</td>\n",
              "      <td>0</td>\n",
              "      <td>0</td>\n",
              "      <td>0</td>\n",
              "      <td>0</td>\n",
              "      <td>0</td>\n",
              "      <td>0</td>\n",
              "      <td>0</td>\n",
              "      <td>0</td>\n",
              "      <td>0</td>\n",
              "      <td>0</td>\n",
              "      <td>0</td>\n",
              "      <td>0</td>\n",
              "      <td>0</td>\n",
              "      <td>0</td>\n",
              "      <td>0</td>\n",
              "      <td>0</td>\n",
              "      <td>0</td>\n",
              "      <td>0</td>\n",
              "      <td>...</td>\n",
              "      <td>0</td>\n",
              "      <td>0</td>\n",
              "      <td>0</td>\n",
              "      <td>0</td>\n",
              "      <td>0</td>\n",
              "      <td>0</td>\n",
              "      <td>0</td>\n",
              "      <td>0</td>\n",
              "      <td>0</td>\n",
              "      <td>0</td>\n",
              "      <td>0</td>\n",
              "      <td>0</td>\n",
              "      <td>0</td>\n",
              "      <td>0</td>\n",
              "      <td>0</td>\n",
              "      <td>0</td>\n",
              "      <td>0</td>\n",
              "      <td>0</td>\n",
              "      <td>0</td>\n",
              "      <td>0</td>\n",
              "      <td>0</td>\n",
              "      <td>0</td>\n",
              "      <td>0</td>\n",
              "      <td>0</td>\n",
              "      <td>0</td>\n",
              "      <td>0</td>\n",
              "      <td>0</td>\n",
              "      <td>0</td>\n",
              "      <td>0</td>\n",
              "      <td>0</td>\n",
              "      <td>0</td>\n",
              "      <td>0</td>\n",
              "      <td>0</td>\n",
              "      <td>0</td>\n",
              "      <td>0</td>\n",
              "      <td>0</td>\n",
              "      <td>0</td>\n",
              "      <td>0</td>\n",
              "      <td>0</td>\n",
              "      <td>0</td>\n",
              "    </tr>\n",
              "    <tr>\n",
              "      <th>2</th>\n",
              "      <td>6</td>\n",
              "      <td>0</td>\n",
              "      <td>0</td>\n",
              "      <td>0</td>\n",
              "      <td>0</td>\n",
              "      <td>0</td>\n",
              "      <td>0</td>\n",
              "      <td>0</td>\n",
              "      <td>5</td>\n",
              "      <td>0</td>\n",
              "      <td>0</td>\n",
              "      <td>0</td>\n",
              "      <td>105</td>\n",
              "      <td>92</td>\n",
              "      <td>101</td>\n",
              "      <td>107</td>\n",
              "      <td>100</td>\n",
              "      <td>132</td>\n",
              "      <td>0</td>\n",
              "      <td>0</td>\n",
              "      <td>2</td>\n",
              "      <td>4</td>\n",
              "      <td>0</td>\n",
              "      <td>1</td>\n",
              "      <td>0</td>\n",
              "      <td>0</td>\n",
              "      <td>0</td>\n",
              "      <td>0</td>\n",
              "      <td>0</td>\n",
              "      <td>0</td>\n",
              "      <td>0</td>\n",
              "      <td>0</td>\n",
              "      <td>0</td>\n",
              "      <td>0</td>\n",
              "      <td>0</td>\n",
              "      <td>0</td>\n",
              "      <td>0</td>\n",
              "      <td>0</td>\n",
              "      <td>0</td>\n",
              "      <td>150</td>\n",
              "      <td>...</td>\n",
              "      <td>211</td>\n",
              "      <td>220</td>\n",
              "      <td>214</td>\n",
              "      <td>74</td>\n",
              "      <td>0</td>\n",
              "      <td>255</td>\n",
              "      <td>222</td>\n",
              "      <td>128</td>\n",
              "      <td>0</td>\n",
              "      <td>0</td>\n",
              "      <td>0</td>\n",
              "      <td>0</td>\n",
              "      <td>0</td>\n",
              "      <td>0</td>\n",
              "      <td>0</td>\n",
              "      <td>0</td>\n",
              "      <td>0</td>\n",
              "      <td>44</td>\n",
              "      <td>12</td>\n",
              "      <td>0</td>\n",
              "      <td>0</td>\n",
              "      <td>40</td>\n",
              "      <td>134</td>\n",
              "      <td>162</td>\n",
              "      <td>191</td>\n",
              "      <td>214</td>\n",
              "      <td>163</td>\n",
              "      <td>146</td>\n",
              "      <td>165</td>\n",
              "      <td>79</td>\n",
              "      <td>0</td>\n",
              "      <td>0</td>\n",
              "      <td>0</td>\n",
              "      <td>30</td>\n",
              "      <td>43</td>\n",
              "      <td>0</td>\n",
              "      <td>0</td>\n",
              "      <td>0</td>\n",
              "      <td>0</td>\n",
              "      <td>0</td>\n",
              "    </tr>\n",
              "    <tr>\n",
              "      <th>3</th>\n",
              "      <td>0</td>\n",
              "      <td>0</td>\n",
              "      <td>0</td>\n",
              "      <td>0</td>\n",
              "      <td>1</td>\n",
              "      <td>2</td>\n",
              "      <td>0</td>\n",
              "      <td>0</td>\n",
              "      <td>0</td>\n",
              "      <td>0</td>\n",
              "      <td>0</td>\n",
              "      <td>114</td>\n",
              "      <td>183</td>\n",
              "      <td>112</td>\n",
              "      <td>55</td>\n",
              "      <td>23</td>\n",
              "      <td>72</td>\n",
              "      <td>102</td>\n",
              "      <td>165</td>\n",
              "      <td>160</td>\n",
              "      <td>28</td>\n",
              "      <td>0</td>\n",
              "      <td>0</td>\n",
              "      <td>0</td>\n",
              "      <td>1</td>\n",
              "      <td>0</td>\n",
              "      <td>0</td>\n",
              "      <td>0</td>\n",
              "      <td>0</td>\n",
              "      <td>0</td>\n",
              "      <td>0</td>\n",
              "      <td>0</td>\n",
              "      <td>0</td>\n",
              "      <td>1</td>\n",
              "      <td>0</td>\n",
              "      <td>0</td>\n",
              "      <td>24</td>\n",
              "      <td>188</td>\n",
              "      <td>163</td>\n",
              "      <td>93</td>\n",
              "      <td>...</td>\n",
              "      <td>171</td>\n",
              "      <td>249</td>\n",
              "      <td>207</td>\n",
              "      <td>197</td>\n",
              "      <td>202</td>\n",
              "      <td>45</td>\n",
              "      <td>0</td>\n",
              "      <td>3</td>\n",
              "      <td>0</td>\n",
              "      <td>0</td>\n",
              "      <td>0</td>\n",
              "      <td>0</td>\n",
              "      <td>0</td>\n",
              "      <td>0</td>\n",
              "      <td>0</td>\n",
              "      <td>0</td>\n",
              "      <td>0</td>\n",
              "      <td>0</td>\n",
              "      <td>1</td>\n",
              "      <td>0</td>\n",
              "      <td>0</td>\n",
              "      <td>0</td>\n",
              "      <td>22</td>\n",
              "      <td>21</td>\n",
              "      <td>25</td>\n",
              "      <td>69</td>\n",
              "      <td>52</td>\n",
              "      <td>45</td>\n",
              "      <td>74</td>\n",
              "      <td>39</td>\n",
              "      <td>3</td>\n",
              "      <td>0</td>\n",
              "      <td>0</td>\n",
              "      <td>0</td>\n",
              "      <td>0</td>\n",
              "      <td>1</td>\n",
              "      <td>0</td>\n",
              "      <td>0</td>\n",
              "      <td>0</td>\n",
              "      <td>0</td>\n",
              "    </tr>\n",
              "    <tr>\n",
              "      <th>4</th>\n",
              "      <td>3</td>\n",
              "      <td>0</td>\n",
              "      <td>0</td>\n",
              "      <td>0</td>\n",
              "      <td>0</td>\n",
              "      <td>0</td>\n",
              "      <td>0</td>\n",
              "      <td>0</td>\n",
              "      <td>0</td>\n",
              "      <td>0</td>\n",
              "      <td>0</td>\n",
              "      <td>0</td>\n",
              "      <td>0</td>\n",
              "      <td>46</td>\n",
              "      <td>0</td>\n",
              "      <td>21</td>\n",
              "      <td>68</td>\n",
              "      <td>0</td>\n",
              "      <td>0</td>\n",
              "      <td>0</td>\n",
              "      <td>0</td>\n",
              "      <td>0</td>\n",
              "      <td>0</td>\n",
              "      <td>0</td>\n",
              "      <td>0</td>\n",
              "      <td>0</td>\n",
              "      <td>0</td>\n",
              "      <td>0</td>\n",
              "      <td>0</td>\n",
              "      <td>0</td>\n",
              "      <td>0</td>\n",
              "      <td>0</td>\n",
              "      <td>0</td>\n",
              "      <td>0</td>\n",
              "      <td>0</td>\n",
              "      <td>0</td>\n",
              "      <td>0</td>\n",
              "      <td>25</td>\n",
              "      <td>187</td>\n",
              "      <td>189</td>\n",
              "      <td>...</td>\n",
              "      <td>230</td>\n",
              "      <td>237</td>\n",
              "      <td>229</td>\n",
              "      <td>0</td>\n",
              "      <td>0</td>\n",
              "      <td>1</td>\n",
              "      <td>0</td>\n",
              "      <td>0</td>\n",
              "      <td>0</td>\n",
              "      <td>0</td>\n",
              "      <td>0</td>\n",
              "      <td>0</td>\n",
              "      <td>0</td>\n",
              "      <td>0</td>\n",
              "      <td>0</td>\n",
              "      <td>0</td>\n",
              "      <td>0</td>\n",
              "      <td>0</td>\n",
              "      <td>0</td>\n",
              "      <td>0</td>\n",
              "      <td>0</td>\n",
              "      <td>68</td>\n",
              "      <td>116</td>\n",
              "      <td>112</td>\n",
              "      <td>136</td>\n",
              "      <td>147</td>\n",
              "      <td>144</td>\n",
              "      <td>121</td>\n",
              "      <td>102</td>\n",
              "      <td>63</td>\n",
              "      <td>0</td>\n",
              "      <td>0</td>\n",
              "      <td>0</td>\n",
              "      <td>0</td>\n",
              "      <td>0</td>\n",
              "      <td>0</td>\n",
              "      <td>0</td>\n",
              "      <td>0</td>\n",
              "      <td>0</td>\n",
              "      <td>0</td>\n",
              "    </tr>\n",
              "  </tbody>\n",
              "</table>\n",
              "<p>5 rows × 785 columns</p>\n",
              "</div>\n",
              "      <button class=\"colab-df-convert\" onclick=\"convertToInteractive('df-b9fc9d10-0301-4705-8bf5-c94746013a77')\"\n",
              "              title=\"Convert this dataframe to an interactive table.\"\n",
              "              style=\"display:none;\">\n",
              "        \n",
              "  <svg xmlns=\"http://www.w3.org/2000/svg\" height=\"24px\"viewBox=\"0 0 24 24\"\n",
              "       width=\"24px\">\n",
              "    <path d=\"M0 0h24v24H0V0z\" fill=\"none\"/>\n",
              "    <path d=\"M18.56 5.44l.94 2.06.94-2.06 2.06-.94-2.06-.94-.94-2.06-.94 2.06-2.06.94zm-11 1L8.5 8.5l.94-2.06 2.06-.94-2.06-.94L8.5 2.5l-.94 2.06-2.06.94zm10 10l.94 2.06.94-2.06 2.06-.94-2.06-.94-.94-2.06-.94 2.06-2.06.94z\"/><path d=\"M17.41 7.96l-1.37-1.37c-.4-.4-.92-.59-1.43-.59-.52 0-1.04.2-1.43.59L10.3 9.45l-7.72 7.72c-.78.78-.78 2.05 0 2.83L4 21.41c.39.39.9.59 1.41.59.51 0 1.02-.2 1.41-.59l7.78-7.78 2.81-2.81c.8-.78.8-2.07 0-2.86zM5.41 20L4 18.59l7.72-7.72 1.47 1.35L5.41 20z\"/>\n",
              "  </svg>\n",
              "      </button>\n",
              "      \n",
              "  <style>\n",
              "    .colab-df-container {\n",
              "      display:flex;\n",
              "      flex-wrap:wrap;\n",
              "      gap: 12px;\n",
              "    }\n",
              "\n",
              "    .colab-df-convert {\n",
              "      background-color: #E8F0FE;\n",
              "      border: none;\n",
              "      border-radius: 50%;\n",
              "      cursor: pointer;\n",
              "      display: none;\n",
              "      fill: #1967D2;\n",
              "      height: 32px;\n",
              "      padding: 0 0 0 0;\n",
              "      width: 32px;\n",
              "    }\n",
              "\n",
              "    .colab-df-convert:hover {\n",
              "      background-color: #E2EBFA;\n",
              "      box-shadow: 0px 1px 2px rgba(60, 64, 67, 0.3), 0px 1px 3px 1px rgba(60, 64, 67, 0.15);\n",
              "      fill: #174EA6;\n",
              "    }\n",
              "\n",
              "    [theme=dark] .colab-df-convert {\n",
              "      background-color: #3B4455;\n",
              "      fill: #D2E3FC;\n",
              "    }\n",
              "\n",
              "    [theme=dark] .colab-df-convert:hover {\n",
              "      background-color: #434B5C;\n",
              "      box-shadow: 0px 1px 3px 1px rgba(0, 0, 0, 0.15);\n",
              "      filter: drop-shadow(0px 1px 2px rgba(0, 0, 0, 0.3));\n",
              "      fill: #FFFFFF;\n",
              "    }\n",
              "  </style>\n",
              "\n",
              "      <script>\n",
              "        const buttonEl =\n",
              "          document.querySelector('#df-b9fc9d10-0301-4705-8bf5-c94746013a77 button.colab-df-convert');\n",
              "        buttonEl.style.display =\n",
              "          google.colab.kernel.accessAllowed ? 'block' : 'none';\n",
              "\n",
              "        async function convertToInteractive(key) {\n",
              "          const element = document.querySelector('#df-b9fc9d10-0301-4705-8bf5-c94746013a77');\n",
              "          const dataTable =\n",
              "            await google.colab.kernel.invokeFunction('convertToInteractive',\n",
              "                                                     [key], {});\n",
              "          if (!dataTable) return;\n",
              "\n",
              "          const docLinkHtml = 'Like what you see? Visit the ' +\n",
              "            '<a target=\"_blank\" href=https://colab.research.google.com/notebooks/data_table.ipynb>data table notebook</a>'\n",
              "            + ' to learn more about interactive tables.';\n",
              "          element.innerHTML = '';\n",
              "          dataTable['output_type'] = 'display_data';\n",
              "          await google.colab.output.renderOutput(dataTable, element);\n",
              "          const docLink = document.createElement('div');\n",
              "          docLink.innerHTML = docLinkHtml;\n",
              "          element.appendChild(docLink);\n",
              "        }\n",
              "      </script>\n",
              "    </div>\n",
              "  </div>\n",
              "  "
            ],
            "text/plain": [
              "   label  pixel1  pixel2  pixel3  ...  pixel781  pixel782  pixel783  pixel784\n",
              "0      2       0       0       0  ...         0         0         0         0\n",
              "1      9       0       0       0  ...         0         0         0         0\n",
              "2      6       0       0       0  ...         0         0         0         0\n",
              "3      0       0       0       0  ...         0         0         0         0\n",
              "4      3       0       0       0  ...         0         0         0         0\n",
              "\n",
              "[5 rows x 785 columns]"
            ]
          },
          "metadata": {},
          "execution_count": 6
        }
      ],
      "source": [
        "train_df.head()"
      ]
    },
    {
      "cell_type": "markdown",
      "metadata": {
        "id": "iP0i0Ds2oJhS"
      },
      "source": [
        "The header output above, shows that the results are in the first column, so we would need to extract that out and create a split.\n",
        "\n",
        "The inputs range from 0-255, to preprocess this we will scale the values from 0 to 1 by dividing it by 255"
      ]
    },
    {
      "cell_type": "code",
      "execution_count": 7,
      "metadata": {
        "id": "yz2heKMYo2IV"
      },
      "outputs": [],
      "source": [
        "train_data = np.array(train_df, dtype='float32')\n",
        "test_data = np.array(test_df, dtype='float32')"
      ]
    },
    {
      "cell_type": "code",
      "execution_count": 8,
      "metadata": {
        "id": "bWDsh9KLdx3x"
      },
      "outputs": [],
      "source": [
        "# training test split\n",
        "x_train = train_data[:,1:]/255\n",
        "y_train = train_data[:,0]\n",
        "\n",
        "x_test= test_data[:,1:]/255\n",
        "y_test=test_data[:,0]"
      ]
    },
    {
      "cell_type": "code",
      "execution_count": 9,
      "metadata": {
        "id": "M5LApFJ9pbH1"
      },
      "outputs": [],
      "source": [
        "x_train,x_validate,y_train,y_validate = train_test_split(x_train, y_train, test_size = 0.2, random_state = 648)"
      ]
    },
    {
      "cell_type": "code",
      "execution_count": 10,
      "metadata": {
        "colab": {
          "base_uri": "https://localhost:8080/",
          "height": 265
        },
        "id": "zlDWHIrUp7LK",
        "outputId": "e54c39d2-2a32-4480-85f5-fa24f5b0e62d"
      },
      "outputs": [
        {
          "output_type": "display_data",
          "data": {
            "image/png": "[encoded data removed]",
            "text/plain": [
              "<Figure size 432x288 with 1 Axes>"
            ]
          },
          "metadata": {
            "needs_background": "light"
          }
        }
      ],
      "source": [
        "# plot a random item to see the output\n",
        "plt.imshow(x_train[34].reshape((28,28)))\n",
        "plt.show()"
      ]
    },
    {
      "cell_type": "markdown",
      "metadata": {
        "id": "fbQsnfr8q2Nj"
      },
      "source": [
        "# Part 2: Model creation and training with Sigmoid activation function"
      ]
    },
    {
      "cell_type": "code",
      "execution_count": 11,
      "metadata": {
        "id": "5Tl9V88Bp8MD"
      },
      "outputs": [],
      "source": [
        "image_rows = 28\n",
        "image_cols = 28\n",
        "image_shape = (image_rows,image_cols,1) \n",
        "\n",
        "BATCH_SIZE = 1000\n",
        "EPOCHS = 10"
      ]
    },
    {
      "cell_type": "code",
      "execution_count": 12,
      "metadata": {
        "id": "nqTXWuLuq1kK"
      },
      "outputs": [],
      "source": [
        "x_train = x_train.reshape(x_train.shape[0],*image_shape)\n",
        "x_test = x_test.reshape(x_test.shape[0],*image_shape)\n",
        "x_validate = x_validate.reshape(x_validate.shape[0],*image_shape)"
      ]
    },
    {
      "cell_type": "code",
      "execution_count": 13,
      "metadata": {
        "id": "2wwaCG8FuRZV"
      },
      "outputs": [],
      "source": [
        "# model\n",
        "cnn_model = Sequential([\n",
        "    Conv2D(filters=32,kernel_size=3, activation='sigmoid',input_shape = image_shape),\n",
        "    MaxPooling2D(pool_size=2) ,\n",
        "    Flatten(), \n",
        "    Dense(32,activation='sigmoid'),\n",
        "    Dense(10,activation = 'sigmoid')\n",
        "    \n",
        "])"
      ]
    },
    {
      "cell_type": "code",
      "execution_count": 14,
      "metadata": {
        "id": "BcxrHLXHw6N7"
      },
      "outputs": [],
      "source": [
        "cnn_model.compile(loss ='sparse_categorical_crossentropy', optimizer=SGD(learning_rate=0.2),metrics =['accuracy'])"
      ]
    },
    {
      "cell_type": "code",
      "execution_count": 15,
      "metadata": {
        "colab": {
          "base_uri": "https://localhost:8080/"
        },
        "id": "zg8rg2XGyIig",
        "outputId": "abf8fe4b-7055-4e34-ca55-2eb3f0b959fb"
      },
      "outputs": [
        {
          "output_type": "stream",
          "name": "stdout",
          "text": [
            "Epoch 1/10\n",
            "48/48 [==============================] - 17s 345ms/step - loss: 2.2983 - accuracy: 0.1195 - val_loss: 2.3127 - val_accuracy: 0.1007\n",
            "Epoch 2/10\n",
            "48/48 [==============================] - 16s 340ms/step - loss: 2.2387 - accuracy: 0.1718 - val_loss: 2.1268 - val_accuracy: 0.2800\n",
            "Epoch 3/10\n",
            "48/48 [==============================] - 16s 332ms/step - loss: 2.0114 - accuracy: 0.2649 - val_loss: 1.8161 - val_accuracy: 0.2838\n",
            "Epoch 4/10\n",
            "48/48 [==============================] - 16s 327ms/step - loss: 1.5525 - accuracy: 0.4411 - val_loss: 1.2921 - val_accuracy: 0.5562\n",
            "Epoch 5/10\n",
            "48/48 [==============================] - 16s 326ms/step - loss: 1.1726 - accuracy: 0.5942 - val_loss: 1.0722 - val_accuracy: 0.6424\n",
            "Epoch 6/10\n",
            "48/48 [==============================] - 15s 323ms/step - loss: 0.9995 - accuracy: 0.6452 - val_loss: 0.9276 - val_accuracy: 0.6689\n",
            "Epoch 7/10\n",
            "48/48 [==============================] - 15s 322ms/step - loss: 0.9073 - accuracy: 0.6740 - val_loss: 0.8444 - val_accuracy: 0.7188\n",
            "Epoch 8/10\n",
            "48/48 [==============================] - 15s 321ms/step - loss: 0.8410 - accuracy: 0.6925 - val_loss: 0.8325 - val_accuracy: 0.6915\n",
            "Epoch 9/10\n",
            "48/48 [==============================] - 15s 320ms/step - loss: 0.7949 - accuracy: 0.7088 - val_loss: 0.7818 - val_accuracy: 0.7196\n",
            "Epoch 10/10\n",
            "48/48 [==============================] - 15s 321ms/step - loss: 0.7635 - accuracy: 0.7152 - val_loss: 0.7607 - val_accuracy: 0.7130\n"
          ]
        }
      ],
      "source": [
        "# train dataset\n",
        "cnn_model_train = cnn_model.fit(\n",
        "    x_train,\n",
        "    y_train,\n",
        "    batch_size=BATCH_SIZE,\n",
        "    epochs=EPOCHS,\n",
        "    verbose=1,\n",
        "    validation_data=(x_validate,y_validate),\n",
        ")"
      ]
    },
    {
      "cell_type": "code",
      "execution_count": 16,
      "metadata": {
        "colab": {
          "base_uri": "https://localhost:8080/"
        },
        "id": "8GoyFaHh29HW",
        "outputId": "7108d4d7-4c02-4f60-a961-7a5d06ef6975"
      },
      "outputs": [
        {
          "output_type": "stream",
          "name": "stdout",
          "text": [
            "Epoch 1/10\n",
            "10/10 [==============================] - 4s 434ms/step - loss: 0.7513 - accuracy: 0.7136 - val_loss: 0.7899 - val_accuracy: 0.7119\n",
            "Epoch 2/10\n",
            "10/10 [==============================] - 4s 427ms/step - loss: 0.7410 - accuracy: 0.7237 - val_loss: 0.7184 - val_accuracy: 0.7335\n",
            "Epoch 3/10\n",
            "10/10 [==============================] - 4s 431ms/step - loss: 0.7182 - accuracy: 0.7350 - val_loss: 0.6926 - val_accuracy: 0.7427\n",
            "Epoch 4/10\n",
            "10/10 [==============================] - 4s 431ms/step - loss: 0.7032 - accuracy: 0.7423 - val_loss: 0.7191 - val_accuracy: 0.7278\n",
            "Epoch 5/10\n",
            "10/10 [==============================] - 4s 425ms/step - loss: 0.7136 - accuracy: 0.7381 - val_loss: 0.7512 - val_accuracy: 0.7125\n",
            "Epoch 6/10\n",
            "10/10 [==============================] - 4s 425ms/step - loss: 0.7238 - accuracy: 0.7278 - val_loss: 0.6980 - val_accuracy: 0.7437\n",
            "Epoch 7/10\n",
            "10/10 [==============================] - 4s 425ms/step - loss: 0.7071 - accuracy: 0.7344 - val_loss: 0.7064 - val_accuracy: 0.7132\n",
            "Epoch 8/10\n",
            "10/10 [==============================] - 4s 426ms/step - loss: 0.7139 - accuracy: 0.7247 - val_loss: 0.7797 - val_accuracy: 0.6972\n",
            "Epoch 9/10\n",
            "10/10 [==============================] - 4s 427ms/step - loss: 0.7109 - accuracy: 0.7308 - val_loss: 0.6857 - val_accuracy: 0.7412\n",
            "Epoch 10/10\n",
            "10/10 [==============================] - 4s 423ms/step - loss: 0.7023 - accuracy: 0.7324 - val_loss: 0.7074 - val_accuracy: 0.7210\n"
          ]
        }
      ],
      "source": [
        "# test dataset\n",
        "cnn_model_test = cnn_model.fit(\n",
        "    x_test,\n",
        "    y_test,\n",
        "    batch_size=BATCH_SIZE,\n",
        "    epochs=EPOCHS,\n",
        "    verbose=1,\n",
        "    validation_data=(x_validate,y_validate),\n",
        ")"
      ]
    },
    {
      "cell_type": "markdown",
      "metadata": {
        "id": "QzwRDdJf0SUo"
      },
      "source": [
        "# Part 3: Model training with RELU activation function"
      ]
    },
    {
      "cell_type": "code",
      "execution_count": 57,
      "metadata": {
        "id": "WwiwMxBI0iX7"
      },
      "outputs": [],
      "source": [
        "# relu\n",
        "relu_cnn_model = Sequential([\n",
        "    Conv2D(filters=32,kernel_size=3, activation='relu',input_shape = image_shape),\n",
        "    MaxPooling2D(pool_size=2) ,\n",
        "    Flatten(), \n",
        "    Dense(32,activation='relu'),\n",
        "    Dense(10,activation = 'relu')\n",
        "    \n",
        "])"
      ]
    },
    {
      "cell_type": "code",
      "execution_count": 58,
      "metadata": {
        "id": "-7omtR8K0oC_"
      },
      "outputs": [],
      "source": [
        "relu_cnn_model.compile(loss ='sparse_categorical_crossentropy', optimizer=SGD(learning_rate=0.2),metrics =['accuracy'])"
      ]
    },
    {
      "cell_type": "code",
      "execution_count": 59,
      "metadata": {
        "colab": {
          "base_uri": "https://localhost:8080/"
        },
        "id": "0cuu3lCk0sB6",
        "outputId": "e13e81ff-8dbc-4e79-9744-78ff6d242dd7"
      },
      "outputs": [
        {
          "output_type": "stream",
          "name": "stdout",
          "text": [
            "Epoch 1/10\n",
            "48/48 [==============================] - 16s 325ms/step - loss: 11.0190 - accuracy: 0.1002 - val_loss: 11.0491 - val_accuracy: 0.1007\n",
            "Epoch 2/10\n",
            "48/48 [==============================] - 16s 325ms/step - loss: 11.0592 - accuracy: 0.0998 - val_loss: 11.0491 - val_accuracy: 0.1007\n",
            "Epoch 3/10\n",
            "48/48 [==============================] - 15s 320ms/step - loss: 11.0592 - accuracy: 0.0998 - val_loss: 11.0491 - val_accuracy: 0.1007\n",
            "Epoch 4/10\n",
            "48/48 [==============================] - 15s 320ms/step - loss: 11.0592 - accuracy: 0.0998 - val_loss: 11.0491 - val_accuracy: 0.1007\n",
            "Epoch 5/10\n",
            "48/48 [==============================] - 15s 323ms/step - loss: 11.0592 - accuracy: 0.0998 - val_loss: 11.0491 - val_accuracy: 0.1007\n",
            "Epoch 6/10\n",
            "48/48 [==============================] - 15s 322ms/step - loss: 11.0592 - accuracy: 0.0998 - val_loss: 11.0491 - val_accuracy: 0.1007\n",
            "Epoch 7/10\n",
            "48/48 [==============================] - 15s 323ms/step - loss: 11.0592 - accuracy: 0.0998 - val_loss: 11.0491 - val_accuracy: 0.1007\n",
            "Epoch 8/10\n",
            "48/48 [==============================] - 15s 323ms/step - loss: 11.0592 - accuracy: 0.0998 - val_loss: 11.0491 - val_accuracy: 0.1007\n",
            "Epoch 9/10\n",
            "48/48 [==============================] - 15s 323ms/step - loss: 11.0592 - accuracy: 0.0998 - val_loss: 11.0491 - val_accuracy: 0.1007\n",
            "Epoch 10/10\n",
            "48/48 [==============================] - 16s 326ms/step - loss: 11.0592 - accuracy: 0.0998 - val_loss: 11.0491 - val_accuracy: 0.1007\n"
          ]
        }
      ],
      "source": [
        "relu_model_train = relu_cnn_model.fit(\n",
        "    x_train,\n",
        "    y_train,\n",
        "    batch_size=BATCH_SIZE,\n",
        "    epochs=EPOCHS,\n",
        "    verbose=1,\n",
        "    validation_data=(x_validate,y_validate),\n",
        ")"
      ]
    },
    {
      "cell_type": "code",
      "execution_count": 60,
      "metadata": {
        "colab": {
          "base_uri": "https://localhost:8080/"
        },
        "id": "sRI4eGwn7Yj6",
        "outputId": "1c69b31e-28aa-4994-cdce-c36ac2146202"
      },
      "outputs": [
        {
          "output_type": "stream",
          "name": "stdout",
          "text": [
            "Epoch 1/10\n",
            "10/10 [==============================] - 4s 429ms/step - loss: 11.0572 - accuracy: 0.1000 - val_loss: 11.0491 - val_accuracy: 0.1007\n",
            "Epoch 2/10\n",
            "10/10 [==============================] - 4s 429ms/step - loss: 11.0572 - accuracy: 0.1000 - val_loss: 11.0491 - val_accuracy: 0.1007\n",
            "Epoch 3/10\n",
            "10/10 [==============================] - 4s 421ms/step - loss: 11.0572 - accuracy: 0.1000 - val_loss: 11.0491 - val_accuracy: 0.1007\n",
            "Epoch 4/10\n",
            "10/10 [==============================] - 4s 423ms/step - loss: 11.0572 - accuracy: 0.1000 - val_loss: 11.0491 - val_accuracy: 0.1007\n",
            "Epoch 5/10\n",
            "10/10 [==============================] - 4s 427ms/step - loss: 11.0572 - accuracy: 0.1000 - val_loss: 11.0491 - val_accuracy: 0.1007\n",
            "Epoch 6/10\n",
            "10/10 [==============================] - 4s 423ms/step - loss: 11.0572 - accuracy: 0.1000 - val_loss: 11.0491 - val_accuracy: 0.1007\n",
            "Epoch 7/10\n",
            "10/10 [==============================] - 4s 420ms/step - loss: 11.0572 - accuracy: 0.1000 - val_loss: 11.0491 - val_accuracy: 0.1007\n",
            "Epoch 8/10\n",
            "10/10 [==============================] - 4s 421ms/step - loss: 11.0572 - accuracy: 0.1000 - val_loss: 11.0491 - val_accuracy: 0.1007\n",
            "Epoch 9/10\n",
            "10/10 [==============================] - 4s 420ms/step - loss: 11.0572 - accuracy: 0.1000 - val_loss: 11.0491 - val_accuracy: 0.1007\n",
            "Epoch 10/10\n",
            "10/10 [==============================] - 4s 422ms/step - loss: 11.0572 - accuracy: 0.1000 - val_loss: 11.0491 - val_accuracy: 0.1007\n"
          ]
        }
      ],
      "source": [
        "relu_model_test = relu_cnn_model.fit(\n",
        "    x_test,\n",
        "    y_test,\n",
        "    batch_size=BATCH_SIZE,\n",
        "    epochs=EPOCHS,\n",
        "    verbose=1,\n",
        "    validation_data=(x_validate,y_validate),\n",
        ")"
      ]
    },
    {
      "cell_type": "markdown",
      "metadata": {
        "id": "vKpr0nOB4T78"
      },
      "source": [
        "## Dropout regularisation with RELU activation function\n"
      ]
    },
    {
      "cell_type": "code",
      "execution_count": 75,
      "metadata": {
        "id": "xO_eG0RE4SwX"
      },
      "outputs": [],
      "source": [
        "# dropout\n",
        "dropout_cnn_model = Sequential([\n",
        "    Conv2D(filters=32,kernel_size=3, activation='relu',input_shape = image_shape),\n",
        "    MaxPooling2D(pool_size=2) ,\n",
        "    Dropout(0.2),\n",
        "    Flatten(), \n",
        "    Dense(32,activation='relu'),\n",
        "    Dense(10,activation = 'relu')\n",
        "    \n",
        "])"
      ]
    },
    {
      "cell_type": "code",
      "execution_count": 76,
      "metadata": {
        "id": "RO5WSvsX2TdH"
      },
      "outputs": [],
      "source": [
        "dropout_cnn_model.compile(loss ='sparse_categorical_crossentropy', optimizer=SGD(learning_rate=0.2),metrics =['accuracy'])"
      ]
    },
    {
      "cell_type": "code",
      "execution_count": 77,
      "metadata": {
        "colab": {
          "base_uri": "https://localhost:8080/"
        },
        "id": "P0DVfX104eFp",
        "outputId": "c7149fce-607e-43c2-fa71-1eab2472c441"
      },
      "outputs": [
        {
          "output_type": "stream",
          "name": "stdout",
          "text": [
            "Epoch 1/10\n",
            "48/48 [==============================] - 19s 388ms/step - loss: 5.3045 - accuracy: 0.1016 - val_loss: 5.2090 - val_accuracy: 0.0983\n",
            "Epoch 2/10\n",
            "48/48 [==============================] - 18s 385ms/step - loss: 5.3266 - accuracy: 0.1004 - val_loss: 5.2090 - val_accuracy: 0.0983\n",
            "Epoch 3/10\n",
            "48/48 [==============================] - 18s 383ms/step - loss: 5.3266 - accuracy: 0.1004 - val_loss: 5.2090 - val_accuracy: 0.0983\n",
            "Epoch 4/10\n",
            "48/48 [==============================] - 18s 383ms/step - loss: 5.0664 - accuracy: 0.0993 - val_loss: 3.8010 - val_accuracy: 0.0947\n",
            "Epoch 5/10\n",
            "48/48 [==============================] - 19s 392ms/step - loss: 3.8110 - accuracy: 0.1013 - val_loss: 3.8010 - val_accuracy: 0.0947\n",
            "Epoch 6/10\n",
            "48/48 [==============================] - 18s 372ms/step - loss: 4.3510 - accuracy: 0.1013 - val_loss: 5.3057 - val_accuracy: 0.0947\n",
            "Epoch 7/10\n",
            "48/48 [==============================] - 18s 373ms/step - loss: 5.3024 - accuracy: 0.1013 - val_loss: 5.3057 - val_accuracy: 0.0947\n",
            "Epoch 8/10\n",
            "48/48 [==============================] - 18s 373ms/step - loss: 6.0424 - accuracy: 0.1013 - val_loss: 6.7975 - val_accuracy: 0.0947\n",
            "Epoch 9/10\n",
            "48/48 [==============================] - 18s 371ms/step - loss: 6.7773 - accuracy: 0.1013 - val_loss: 6.7975 - val_accuracy: 0.0947\n",
            "Epoch 10/10\n",
            "48/48 [==============================] - 18s 372ms/step - loss: 6.7773 - accuracy: 0.1013 - val_loss: 6.7975 - val_accuracy: 0.0947\n"
          ]
        }
      ],
      "source": [
        "dropout_model_train = dropout_cnn_model.fit(\n",
        "    x_train,\n",
        "    y_train,\n",
        "    batch_size=BATCH_SIZE,\n",
        "    epochs=EPOCHS,\n",
        "    verbose=1,\n",
        "    validation_data=(x_validate,y_validate),\n",
        ")"
      ]
    },
    {
      "cell_type": "code",
      "execution_count": 78,
      "metadata": {
        "colab": {
          "base_uri": "https://localhost:8080/"
        },
        "id": "aPD1aXwe6p1z",
        "outputId": "e10b3588-9d68-461c-d08e-d414b71c724d"
      },
      "outputs": [
        {
          "output_type": "stream",
          "name": "stdout",
          "text": [
            "Epoch 1/10\n",
            "10/10 [==============================] - 5s 481ms/step - loss: 6.7813 - accuracy: 0.1000 - val_loss: 6.7975 - val_accuracy: 0.0947\n",
            "Epoch 2/10\n",
            "10/10 [==============================] - 5s 470ms/step - loss: 6.7813 - accuracy: 0.1000 - val_loss: 6.7975 - val_accuracy: 0.0947\n",
            "Epoch 3/10\n",
            "10/10 [==============================] - 5s 470ms/step - loss: 6.7813 - accuracy: 0.1000 - val_loss: 6.7975 - val_accuracy: 0.0947\n",
            "Epoch 4/10\n",
            "10/10 [==============================] - 5s 471ms/step - loss: 6.7813 - accuracy: 0.1000 - val_loss: 6.7975 - val_accuracy: 0.0947\n",
            "Epoch 5/10\n",
            "10/10 [==============================] - 5s 470ms/step - loss: 6.7813 - accuracy: 0.1000 - val_loss: 6.7975 - val_accuracy: 0.0947\n",
            "Epoch 6/10\n",
            "10/10 [==============================] - 5s 466ms/step - loss: 6.7813 - accuracy: 0.1000 - val_loss: 6.7975 - val_accuracy: 0.0947\n",
            "Epoch 7/10\n",
            "10/10 [==============================] - 5s 471ms/step - loss: 6.7813 - accuracy: 0.1000 - val_loss: 6.7975 - val_accuracy: 0.0947\n",
            "Epoch 8/10\n",
            "10/10 [==============================] - 5s 469ms/step - loss: 6.7813 - accuracy: 0.1000 - val_loss: 6.7975 - val_accuracy: 0.0947\n",
            "Epoch 9/10\n",
            "10/10 [==============================] - 5s 473ms/step - loss: 6.7813 - accuracy: 0.1000 - val_loss: 6.7975 - val_accuracy: 0.0947\n",
            "Epoch 10/10\n",
            "10/10 [==============================] - 5s 469ms/step - loss: 6.7813 - accuracy: 0.1000 - val_loss: 6.7975 - val_accuracy: 0.0947\n"
          ]
        }
      ],
      "source": [
        "dropout_model_test = dropout_cnn_model.fit(\n",
        "    x_test,\n",
        "    y_test,\n",
        "    batch_size=BATCH_SIZE,\n",
        "    epochs=EPOCHS,\n",
        "    verbose=1,\n",
        "    validation_data=(x_validate,y_validate),\n",
        ")"
      ]
    },
    {
      "cell_type": "markdown",
      "source": [
        "## Part 4 (Proposed Extension): Model creation with RELU + SOFTMAX "
      ],
      "metadata": {
        "id": "17lDqNxROkPB"
      }
    },
    {
      "cell_type": "code",
      "source": [
        "# relu + softmax\n",
        "relu_softmax_cnn_model = Sequential([\n",
        "    Conv2D(filters=32,kernel_size=3, activation='relu',input_shape = image_shape),\n",
        "    MaxPooling2D(pool_size=2) ,\n",
        "    Dropout(0.2),\n",
        "    Flatten(), \n",
        "    Dense(32,activation='relu'),\n",
        "    Dense(10,activation = 'softmax')\n",
        "    \n",
        "])"
      ],
      "metadata": {
        "id": "5SCB_3m7P0ay"
      },
      "execution_count": 25,
      "outputs": []
    },
    {
      "cell_type": "code",
      "source": [
        "relu_softmax_cnn_model.compile(loss ='sparse_categorical_crossentropy', optimizer=SGD(learning_rate=0.2),metrics =['accuracy'])"
      ],
      "metadata": {
        "id": "CSmHnT81P9gD"
      },
      "execution_count": 26,
      "outputs": []
    },
    {
      "cell_type": "code",
      "source": [
        "relu_softmax_model_train = relu_softmax_cnn_model.fit(\n",
        "    x_train,\n",
        "    y_train,\n",
        "    batch_size=BATCH_SIZE,\n",
        "    epochs=EPOCHS,\n",
        "    verbose=1,\n",
        "    validation_data=(x_validate,y_validate),\n",
        ")"
      ],
      "metadata": {
        "colab": {
          "base_uri": "https://localhost:8080/"
        },
        "id": "sNmWS12BP-Ym",
        "outputId": "05139fed-5aa3-4c7e-be0a-33060160526c"
      },
      "execution_count": 27,
      "outputs": [
        {
          "output_type": "stream",
          "name": "stdout",
          "text": [
            "Epoch 1/10\n",
            "48/48 [==============================] - 19s 388ms/step - loss: 1.5448 - accuracy: 0.4876 - val_loss: 1.0327 - val_accuracy: 0.5571\n",
            "Epoch 2/10\n",
            "48/48 [==============================] - 18s 379ms/step - loss: 0.7679 - accuracy: 0.7048 - val_loss: 0.6425 - val_accuracy: 0.7485\n",
            "Epoch 3/10\n",
            "48/48 [==============================] - 18s 380ms/step - loss: 0.6097 - accuracy: 0.7648 - val_loss: 0.5444 - val_accuracy: 0.7948\n",
            "Epoch 4/10\n",
            "48/48 [==============================] - 18s 379ms/step - loss: 0.5555 - accuracy: 0.7876 - val_loss: 0.5380 - val_accuracy: 0.7839\n",
            "Epoch 5/10\n",
            "48/48 [==============================] - 18s 378ms/step - loss: 0.5126 - accuracy: 0.8090 - val_loss: 0.4822 - val_accuracy: 0.8235\n",
            "Epoch 6/10\n",
            "48/48 [==============================] - 18s 377ms/step - loss: 0.4806 - accuracy: 0.8202 - val_loss: 0.4413 - val_accuracy: 0.8396\n",
            "Epoch 7/10\n",
            "48/48 [==============================] - 18s 379ms/step - loss: 0.4583 - accuracy: 0.8309 - val_loss: 0.4568 - val_accuracy: 0.8299\n",
            "Epoch 8/10\n",
            "48/48 [==============================] - 18s 378ms/step - loss: 0.4296 - accuracy: 0.8454 - val_loss: 0.3990 - val_accuracy: 0.8590\n",
            "Epoch 9/10\n",
            "48/48 [==============================] - 18s 379ms/step - loss: 0.4150 - accuracy: 0.8510 - val_loss: 0.4106 - val_accuracy: 0.8519\n",
            "Epoch 10/10\n",
            "48/48 [==============================] - 18s 378ms/step - loss: 0.4050 - accuracy: 0.8538 - val_loss: 0.3934 - val_accuracy: 0.8549\n"
          ]
        }
      ]
    },
    {
      "cell_type": "code",
      "source": [
        "relu_softmax_model_test = relu_softmax_cnn_model.fit(\n",
        "    x_test,\n",
        "    y_test,\n",
        "    batch_size=BATCH_SIZE,\n",
        "    epochs=EPOCHS,\n",
        "    verbose=1,\n",
        "    validation_data=(x_validate,y_validate),\n",
        ")"
      ],
      "metadata": {
        "colab": {
          "base_uri": "https://localhost:8080/"
        },
        "id": "VQXPPTJbQBpW",
        "outputId": "776b19a5-3114-4dee-e037-29aababb0512"
      },
      "execution_count": 28,
      "outputs": [
        {
          "output_type": "stream",
          "name": "stdout",
          "text": [
            "Epoch 1/10\n",
            "10/10 [==============================] - 5s 481ms/step - loss: 0.3988 - accuracy: 0.8547 - val_loss: 0.3779 - val_accuracy: 0.8637\n",
            "Epoch 2/10\n",
            "10/10 [==============================] - 5s 476ms/step - loss: 0.3949 - accuracy: 0.8533 - val_loss: 0.3829 - val_accuracy: 0.8627\n",
            "Epoch 3/10\n",
            "10/10 [==============================] - 5s 474ms/step - loss: 0.3908 - accuracy: 0.8544 - val_loss: 0.3808 - val_accuracy: 0.8648\n",
            "Epoch 4/10\n",
            "10/10 [==============================] - 5s 473ms/step - loss: 0.3714 - accuracy: 0.8662 - val_loss: 0.3924 - val_accuracy: 0.8540\n",
            "Epoch 5/10\n",
            "10/10 [==============================] - 5s 479ms/step - loss: 0.3690 - accuracy: 0.8702 - val_loss: 0.3743 - val_accuracy: 0.8656\n",
            "Epoch 6/10\n",
            "10/10 [==============================] - 5s 482ms/step - loss: 0.3671 - accuracy: 0.8671 - val_loss: 0.4036 - val_accuracy: 0.8526\n",
            "Epoch 7/10\n",
            "10/10 [==============================] - 5s 482ms/step - loss: 0.3704 - accuracy: 0.8695 - val_loss: 0.3893 - val_accuracy: 0.8562\n",
            "Epoch 8/10\n",
            "10/10 [==============================] - 5s 476ms/step - loss: 0.3685 - accuracy: 0.8658 - val_loss: 0.3704 - val_accuracy: 0.8655\n",
            "Epoch 9/10\n",
            "10/10 [==============================] - 5s 478ms/step - loss: 0.3623 - accuracy: 0.8700 - val_loss: 0.3697 - val_accuracy: 0.8673\n",
            "Epoch 10/10\n",
            "10/10 [==============================] - 5s 476ms/step - loss: 0.3582 - accuracy: 0.8718 - val_loss: 0.3816 - val_accuracy: 0.8602\n"
          ]
        }
      ]
    },
    {
      "cell_type": "code",
      "execution_count": 29,
      "metadata": {
        "colab": {
          "base_uri": "https://localhost:8080/",
          "height": 329
        },
        "id": "va2KGQWO4_r3",
        "outputId": "c539c4a2-b516-4bcf-c0a2-6d3abe47d17f"
      },
      "outputs": [
        {
          "output_type": "execute_result",
          "data": {
            "text/plain": [
              "Text(0.5, 1.0, 'Test - Accuracy')"
            ]
          },
          "metadata": {},
          "execution_count": 29
        },
        {
          "output_type": "display_data",
          "data": {
            "image/png": "[encoded data removed]",
            "text/plain": [
              "<Figure size 720x720 with 2 Axes>"
            ]
          },
          "metadata": {
            "needs_background": "light"
          }
        }
      ],
      "source": [
        "plt.figure(figsize=(10, 10))\n",
        "\n",
        "plt.subplot(2, 2, 1)\n",
        "plt.plot(relu_softmax_model_test.history['loss'], label='Loss')\n",
        "plt.plot(relu_softmax_model_test.history['val_loss'], label='Validation Loss')\n",
        "plt.legend()\n",
        "plt.title('Test - Loss Function')\n",
        "\n",
        "plt.subplot(2, 2, 2)\n",
        "plt.plot(relu_softmax_model_test.history['accuracy'], label='Accuracy')\n",
        "plt.plot(relu_softmax_model_test.history['val_accuracy'], label='Validation Accuracy')\n",
        "plt.legend()\n",
        "plt.title('Test - Accuracy')"
      ]
    }
  ],
  "metadata": {
    "colab": {
      "collapsed_sections": [],
      "name": "CSCK506 Individual Project.ipynb",
      "provenance": []
    },
    "kernelspec": {
      "display_name": "Python 3",
      "name": "python3"
    },
    "language_info": {
      "name": "python"
    }
  },
  "nbformat": 4,
  "nbformat_minor": 0
}