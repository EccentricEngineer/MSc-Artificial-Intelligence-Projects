{
  "cells": [
    {
      "cell_type": "markdown",
      "metadata": {
        "id": "HxWqVKjQXLMR"
      },
      "source": [
        "# Toxic Comment Classification Challenge"
      ]
    },
    {
      "cell_type": "code",
      "execution_count": null,
      "metadata": {
        "colab": {
          "base_uri": "https://localhost:8080/",
          "height": 179,
          "resources": {
            "http://localhost:8080/nbextensions/google.colab/files.js": {
              "data": "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",
              "headers": [
                [
                  "content-type",
                  "application/javascript"
                ]
              ],
              "ok": true,
              "status": 200,
              "status_text": ""
            }
          }
        },
        "id": "z16abvbuXZhe",
        "outputId": "0d6e0721-512b-4a25-f40b-c51a2a3e6e2a"
      },
      "outputs": [
        {
          "output_type": "display_data",
          "data": {
            "text/plain": [
              "<IPython.core.display.HTML object>"
            ],
            "text/html": [
              "\n",
              "     <input type=\"file\" id=\"files-4cdce153-fd3f-4f4f-9cbf-c466423ea49e\" name=\"files[]\" multiple disabled\n",
              "        style=\"border:none\" />\n",
              "     <output id=\"result-4cdce153-fd3f-4f4f-9cbf-c466423ea49e\">\n",
              "      Upload widget is only available when the cell has been executed in the\n",
              "      current browser session. Please rerun this cell to enable.\n",
              "      </output>\n",
              "      <script src=\"/nbextensions/google.colab/files.js\"></script> "
            ]
          },
          "metadata": {}
        },
        {
          "output_type": "stream",
          "name": "stdout",
          "text": [
            "Saving sample_submission.csv.zip to sample_submission.csv.zip\n",
            "Saving test_labels.csv.zip to test_labels.csv.zip\n",
            "Saving test.csv.zip to test.csv.zip\n",
            "Saving train.csv.zip to train.csv.zip\n"
          ]
        }
      ],
      "source": [
        "from google.colab import files\n",
        "uploaded = files.upload()"
      ]
    },
    {
      "cell_type": "code",
      "source": [
        "from google.colab import drive\n",
        "drive.mount('/content/drive')"
      ],
      "metadata": {
        "colab": {
          "base_uri": "https://localhost:8080/"
        },
        "id": "pkV-X0sO7Cyw",
        "outputId": "c2397e24-a1d4-4be6-c601-8c91fc0f377d"
      },
      "execution_count": null,
      "outputs": [
        {
          "output_type": "stream",
          "name": "stdout",
          "text": [
            "Mounted at /content/drive\n"
          ]
        }
      ]
    },
    {
      "cell_type": "code",
      "execution_count": null,
      "metadata": {
        "colab": {
          "base_uri": "https://localhost:8080/"
        },
        "id": "oJozkTWteaeG",
        "outputId": "9cc47950-5c6d-4d54-c876-75e893a7345e"
      },
      "outputs": [
        {
          "output_type": "stream",
          "name": "stdout",
          "text": [
            "Archive:  test_labels.csv.zip\n",
            "  inflating: test_labels.csv         \n",
            "Archive:  test.csv.zip\n",
            "  inflating: test.csv                \n",
            "Archive:  train.csv.zip\n",
            "  inflating: train.csv               \n"
          ]
        }
      ],
      "source": [
        "!unzip test_labels.csv.zip\n",
        "!unzip test.csv.zip\n",
        "!unzip train.csv.zip"
      ]
    },
    {
      "cell_type": "code",
      "execution_count": null,
      "metadata": {
        "id": "3d6s627pg0I5"
      },
      "outputs": [],
      "source": [
        "import pandas as pd"
      ]
    },
    {
      "cell_type": "code",
      "execution_count": null,
      "metadata": {
        "id": "criEmw1_grAp"
      },
      "outputs": [],
      "source": [
        "original_test_labels = pd.read_csv(\"./test_labels.csv\")\n",
        "original_test = pd.read_csv(\"./test.csv\")\n",
        "original_train = pd.read_csv(\"./train.csv\")"
      ]
    },
    {
      "cell_type": "markdown",
      "metadata": {
        "id": "TjSOsH8NXbms"
      },
      "source": [
        "### Goal\n",
        "1. Goal of the activity is not to find the best solution, but to udnerstand the process of evaluating the performance of different Machine Learning algorithms\n",
        "2. Compare your performance to the leaderboard results\n",
        "\n",
        "### Assignment Tasks\n",
        "- [x] Perform detailed data analysis of the dataset\n",
        "  - [x] Check if the dataset is unbalanced or not\n",
        "  - [x] Number of senstences and tokens per class\n",
        "  - [x] Analyse the most common words for each class and, therefore, understand the most used terms for each level of toxicity (Common words by toxicity)\n",
        "- [x] Select three Machine Learning algorithms:\n",
        "  - [x] Support Vector Machine (SVM)\n",
        "  - [ ] ~~K-Nearest Neighbours (KNN)~~\n",
        "  - [ ] ~~NaiveBayes~~\n",
        "  - [ ] ~~Decision Trees~~\n",
        "  - [x] Logistic Regression\n",
        "  - [ ] ~~Random Forest~~\n",
        "  - [x] Multi-Layer Perception\n",
        "- [ ] Analyse their performance in classifying the level of toxicity of different comments. Use the main metrics to compare the different algorithms:\n",
        "  - [x] Accuracy\n",
        "  - [x] F1-score\n",
        "  - [x] Recall\n",
        "  - [x] Precision\n",
        "  - [x] AUC\n",
        "  - [x] Explain the parameters defined for each model\n",
        "- [x] Consider the main Feature Extraction methods, TF-IDF and WordEmbeddings. Using the **same three classifier** change the Feature Extraction Method\n",
        "  - [x] TF-IDF\n",
        "  - [x] WordEmbeddings(GLOVE)\n",
        "  - [x] Report on the performance difference\n",
        "- [x] Submit your best algorithm to the competition page\n",
        "  - [x] How good does it compare with other groups in the leaderboard\n",
        "  - [x] Discuss the reason for that peformance\n",
        "    - [x] What couldbe done to improve your proposed solution (maximum of two paragraphs)\n",
        "\n",
        "- [x] Submit the final document\n",
        "  - [x] Contain your responses for sub-tasks 1, 2, 3 and 4 in the form of a brief report (500 words)\n",
        "  - [x] Please provide images, graphs, and tables for supporting your data analysis\n",
        "  - [x] Python code must be included in your submission\n"
      ]
    },
    {
      "cell_type": "markdown",
      "metadata": {
        "id": "uot-CM08hkaz"
      },
      "source": [
        "# Import Libraries and Data"
      ]
    },
    {
      "cell_type": "code",
      "execution_count": null,
      "metadata": {
        "id": "J0ecTv8pXFDU"
      },
      "outputs": [],
      "source": [
        "import pandas as pd\n",
        "import matplotlib.pyplot as plt\n",
        "import seaborn as sns\n",
        "import re, string\n",
        "import numpy as np\n",
        "import spacy\n",
        "import collections\n",
        "from gensim.models import word2vec\n",
        "from sklearn.feature_extraction.text import TfidfVectorizer\n",
        "from sklearn.metrics import confusion_matrix, ConfusionMatrixDisplay, accuracy_score, f1_score, classification_report, roc_auc_score\n",
        "from sklearn.svm import SVC\n",
        "from sklearn.linear_model import LogisticRegression\n",
        "from sklearn.neural_network import MLPClassifier"
      ]
    },
    {
      "cell_type": "code",
      "execution_count": null,
      "metadata": {
        "id": "IAf6KXohXZLy"
      },
      "outputs": [],
      "source": [
        "test_labels_df = original_test_labels\n",
        "test_df = original_test\n",
        "train_df = original_train"
      ]
    },
    {
      "cell_type": "markdown",
      "metadata": {
        "id": "HZy3zGAThvdo"
      },
      "source": [
        "# Data Analysis"
      ]
    },
    {
      "cell_type": "code",
      "execution_count": null,
      "metadata": {
        "colab": {
          "base_uri": "https://localhost:8080/",
          "height": 206
        },
        "id": "RpJE9IiVhb-F",
        "outputId": "7850bb95-ab05-4073-af1b-1ff46a627dde"
      },
      "outputs": [
        {
          "output_type": "execute_result",
          "data": {
            "text/plain": [
              "                      id                                       comment_text  \\\n",
              "129311  b39e7f6b1a797f88                                Report errors here.   \n",
              "33161   58471d50d51732a9  \"\\n\\n Classic \\nJimmy Wales stated, \"\"We need ...   \n",
              "132775  c6644bf714767ecc  \"\\nIt looks like the source is a Guardian arti...   \n",
              "35878   5fde85e61575de73  \"\\n\\n COI and AFD \\n\\nI wont bother to join Wi...   \n",
              "139503  eab4d7298571512e       OK, i leave it..... but you are all racists.   \n",
              "\n",
              "        toxic  severe_toxic  obscene  threat  insult  identity_hate  \n",
              "129311      0             0        0       0       0              0  \n",
              "33161       0             0        0       0       0              0  \n",
              "132775      0             0        0       0       0              0  \n",
              "35878       1             0        0       0       0              0  \n",
              "139503      1             0        0       0       0              0  "
            ],
            "text/html": [
              "\n",
              "  <div id=\"df-0143d9f7-15e1-47ad-a47f-1328dd456fbc\">\n",
              "    <div class=\"colab-df-container\">\n",
              "      <div>\n",
              "<style scoped>\n",
              "    .dataframe tbody tr th:only-of-type {\n",
              "        vertical-align: middle;\n",
              "    }\n",
              "\n",
              "    .dataframe tbody tr th {\n",
              "        vertical-align: top;\n",
              "    }\n",
              "\n",
              "    .dataframe thead th {\n",
              "        text-align: right;\n",
              "    }\n",
              "</style>\n",
              "<table border=\"1\" class=\"dataframe\">\n",
              "  <thead>\n",
              "    <tr style=\"text-align: right;\">\n",
              "      <th></th>\n",
              "      <th>id</th>\n",
              "      <th>comment_text</th>\n",
              "      <th>toxic</th>\n",
              "      <th>severe_toxic</th>\n",
              "      <th>obscene</th>\n",
              "      <th>threat</th>\n",
              "      <th>insult</th>\n",
              "      <th>identity_hate</th>\n",
              "    </tr>\n",
              "  </thead>\n",
              "  <tbody>\n",
              "    <tr>\n",
              "      <th>129311</th>\n",
              "      <td>b39e7f6b1a797f88</td>\n",
              "      <td>Report errors here.</td>\n",
              "      <td>0</td>\n",
              "      <td>0</td>\n",
              "      <td>0</td>\n",
              "      <td>0</td>\n",
              "      <td>0</td>\n",
              "      <td>0</td>\n",
              "    </tr>\n",
              "    <tr>\n",
              "      <th>33161</th>\n",
              "      <td>58471d50d51732a9</td>\n",
              "      <td>\"\\n\\n Classic \\nJimmy Wales stated, \"\"We need ...</td>\n",
              "      <td>0</td>\n",
              "      <td>0</td>\n",
              "      <td>0</td>\n",
              "      <td>0</td>\n",
              "      <td>0</td>\n",
              "      <td>0</td>\n",
              "    </tr>\n",
              "    <tr>\n",
              "      <th>132775</th>\n",
              "      <td>c6644bf714767ecc</td>\n",
              "      <td>\"\\nIt looks like the source is a Guardian arti...</td>\n",
              "      <td>0</td>\n",
              "      <td>0</td>\n",
              "      <td>0</td>\n",
              "      <td>0</td>\n",
              "      <td>0</td>\n",
              "      <td>0</td>\n",
              "    </tr>\n",
              "    <tr>\n",
              "      <th>35878</th>\n",
              "      <td>5fde85e61575de73</td>\n",
              "      <td>\"\\n\\n COI and AFD \\n\\nI wont bother to join Wi...</td>\n",
              "      <td>1</td>\n",
              "      <td>0</td>\n",
              "      <td>0</td>\n",
              "      <td>0</td>\n",
              "      <td>0</td>\n",
              "      <td>0</td>\n",
              "    </tr>\n",
              "    <tr>\n",
              "      <th>139503</th>\n",
              "      <td>eab4d7298571512e</td>\n",
              "      <td>OK, i leave it..... but you are all racists.</td>\n",
              "      <td>1</td>\n",
              "      <td>0</td>\n",
              "      <td>0</td>\n",
              "      <td>0</td>\n",
              "      <td>0</td>\n",
              "      <td>0</td>\n",
              "    </tr>\n",
              "  </tbody>\n",
              "</table>\n",
              "</div>\n",
              "      <button class=\"colab-df-convert\" onclick=\"convertToInteractive('df-0143d9f7-15e1-47ad-a47f-1328dd456fbc')\"\n",
              "              title=\"Convert this dataframe to an interactive table.\"\n",
              "              style=\"display:none;\">\n",
              "        \n",
              "  <svg xmlns=\"http://www.w3.org/2000/svg\" height=\"24px\"viewBox=\"0 0 24 24\"\n",
              "       width=\"24px\">\n",
              "    <path d=\"M0 0h24v24H0V0z\" fill=\"none\"/>\n",
              "    <path d=\"M18.56 5.44l.94 2.06.94-2.06 2.06-.94-2.06-.94-.94-2.06-.94 2.06-2.06.94zm-11 1L8.5 8.5l.94-2.06 2.06-.94-2.06-.94L8.5 2.5l-.94 2.06-2.06.94zm10 10l.94 2.06.94-2.06 2.06-.94-2.06-.94-.94-2.06-.94 2.06-2.06.94z\"/><path d=\"M17.41 7.96l-1.37-1.37c-.4-.4-.92-.59-1.43-.59-.52 0-1.04.2-1.43.59L10.3 9.45l-7.72 7.72c-.78.78-.78 2.05 0 2.83L4 21.41c.39.39.9.59 1.41.59.51 0 1.02-.2 1.41-.59l7.78-7.78 2.81-2.81c.8-.78.8-2.07 0-2.86zM5.41 20L4 18.59l7.72-7.72 1.47 1.35L5.41 20z\"/>\n",
              "  </svg>\n",
              "      </button>\n",
              "      \n",
              "  <style>\n",
              "    .colab-df-container {\n",
              "      display:flex;\n",
              "      flex-wrap:wrap;\n",
              "      gap: 12px;\n",
              "    }\n",
              "\n",
              "    .colab-df-convert {\n",
              "      background-color: #E8F0FE;\n",
              "      border: none;\n",
              "      border-radius: 50%;\n",
              "      cursor: pointer;\n",
              "      display: none;\n",
              "      fill: #1967D2;\n",
              "      height: 32px;\n",
              "      padding: 0 0 0 0;\n",
              "      width: 32px;\n",
              "    }\n",
              "\n",
              "    .colab-df-convert:hover {\n",
              "      background-color: #E2EBFA;\n",
              "      box-shadow: 0px 1px 2px rgba(60, 64, 67, 0.3), 0px 1px 3px 1px rgba(60, 64, 67, 0.15);\n",
              "      fill: #174EA6;\n",
              "    }\n",
              "\n",
              "    [theme=dark] .colab-df-convert {\n",
              "      background-color: #3B4455;\n",
              "      fill: #D2E3FC;\n",
              "    }\n",
              "\n",
              "    [theme=dark] .colab-df-convert:hover {\n",
              "      background-color: #434B5C;\n",
              "      box-shadow: 0px 1px 3px 1px rgba(0, 0, 0, 0.15);\n",
              "      filter: drop-shadow(0px 1px 2px rgba(0, 0, 0, 0.3));\n",
              "      fill: #FFFFFF;\n",
              "    }\n",
              "  </style>\n",
              "\n",
              "      <script>\n",
              "        const buttonEl =\n",
              "          document.querySelector('#df-0143d9f7-15e1-47ad-a47f-1328dd456fbc button.colab-df-convert');\n",
              "        buttonEl.style.display =\n",
              "          google.colab.kernel.accessAllowed ? 'block' : 'none';\n",
              "\n",
              "        async function convertToInteractive(key) {\n",
              "          const element = document.querySelector('#df-0143d9f7-15e1-47ad-a47f-1328dd456fbc');\n",
              "          const dataTable =\n",
              "            await google.colab.kernel.invokeFunction('convertToInteractive',\n",
              "                                                     [key], {});\n",
              "          if (!dataTable) return;\n",
              "\n",
              "          const docLinkHtml = 'Like what you see? Visit the ' +\n",
              "            '<a target=\"_blank\" href=https://colab.research.google.com/notebooks/data_table.ipynb>data table notebook</a>'\n",
              "            + ' to learn more about interactive tables.';\n",
              "          element.innerHTML = '';\n",
              "          dataTable['output_type'] = 'display_data';\n",
              "          await google.colab.output.renderOutput(dataTable, element);\n",
              "          const docLink = document.createElement('div');\n",
              "          docLink.innerHTML = docLinkHtml;\n",
              "          element.appendChild(docLink);\n",
              "        }\n",
              "      </script>\n",
              "    </div>\n",
              "  </div>\n",
              "  "
            ]
          },
          "metadata": {},
          "execution_count": 8
        }
      ],
      "source": [
        "# A brief look at the organisation of the data and its various classes \n",
        "train_df.sample(5)"
      ]
    },
    {
      "cell_type": "code",
      "execution_count": null,
      "metadata": {
        "colab": {
          "base_uri": "https://localhost:8080/",
          "height": 35
        },
        "id": "5snfBOH9hdKK",
        "outputId": "4a0dd573-4b3d-447b-d72c-caeac4233628"
      },
      "outputs": [
        {
          "output_type": "execute_result",
          "data": {
            "text/plain": [
              "'COCKSUCKER BEFORE YOU PISS AROUND ON MY WORK'"
            ],
            "application/vnd.google.colaboratory.intrinsic+json": {
              "type": "string"
            }
          },
          "metadata": {},
          "execution_count": 9
        }
      ],
      "source": [
        "# A random example of a toxic word from the dataset.\n",
        "train_df[train_df[\"toxic\"] == 1][\"comment_text\"][6]\n",
        "# Ouch! that is toxic!"
      ]
    },
    {
      "cell_type": "code",
      "execution_count": null,
      "metadata": {
        "colab": {
          "base_uri": "https://localhost:8080/"
        },
        "id": "Nf2z8sh2ul4n",
        "outputId": "509a6eac-c9e0-4f41-a7f7-a4d18a0a1838"
      },
      "outputs": [
        {
          "output_type": "stream",
          "name": "stdout",
          "text": [
            "['toxic', 'severe_toxic', 'obscene', 'threat', 'insult', 'identity_hate']\n"
          ]
        }
      ],
      "source": [
        "# Lisitng toxic labels which show different categorisation of toxic words.\n",
        "TOXIC_LABELS = list(train_df.columns.drop([\"id\", \"comment_text\"]))\n",
        "print(TOXIC_LABELS)"
      ]
    },
    {
      "cell_type": "code",
      "execution_count": null,
      "metadata": {
        "colab": {
          "base_uri": "https://localhost:8080/"
        },
        "id": "q327EfXuypIq",
        "outputId": "63b9a387-fcf6-4354-8033-acc744c27f5a"
      },
      "outputs": [
        {
          "output_type": "execute_result",
          "data": {
            "text/plain": [
              "id               False\n",
              "comment_text     False\n",
              "toxic            False\n",
              "severe_toxic     False\n",
              "obscene          False\n",
              "threat           False\n",
              "insult           False\n",
              "identity_hate    False\n",
              "dtype: bool"
            ]
          },
          "metadata": {},
          "execution_count": 11
        }
      ],
      "source": [
        "# Checking for null values in dataset with .isnull method of pandas.\n",
        "train_df.isnull().any()"
      ]
    },
    {
      "cell_type": "markdown",
      "metadata": {
        "id": "QS6qGWOduYPt"
      },
      "source": [
        "## Stats"
      ]
    },
    {
      "cell_type": "code",
      "execution_count": null,
      "metadata": {
        "colab": {
          "base_uri": "https://localhost:8080/",
          "height": 300
        },
        "id": "AH6DcAqgtlpl",
        "outputId": "b9aa3b8f-05f1-4193-91a2-ce964226d53a"
      },
      "outputs": [
        {
          "output_type": "execute_result",
          "data": {
            "text/plain": [
              "               toxic   severe_toxic        obscene         threat  \\\n",
              "count  159571.000000  159571.000000  159571.000000  159571.000000   \n",
              "mean        0.095844       0.009996       0.052948       0.002996   \n",
              "std         0.294379       0.099477       0.223931       0.054650   \n",
              "min         0.000000       0.000000       0.000000       0.000000   \n",
              "25%         0.000000       0.000000       0.000000       0.000000   \n",
              "50%         0.000000       0.000000       0.000000       0.000000   \n",
              "75%         0.000000       0.000000       0.000000       0.000000   \n",
              "max         1.000000       1.000000       1.000000       1.000000   \n",
              "\n",
              "              insult  identity_hate  \n",
              "count  159571.000000  159571.000000  \n",
              "mean        0.049364       0.008805  \n",
              "std         0.216627       0.093420  \n",
              "min         0.000000       0.000000  \n",
              "25%         0.000000       0.000000  \n",
              "50%         0.000000       0.000000  \n",
              "75%         0.000000       0.000000  \n",
              "max         1.000000       1.000000  "
            ],
            "text/html": [
              "\n",
              "  <div id=\"df-05e09495-fda3-4abd-8f1c-e2ba18e71f24\">\n",
              "    <div class=\"colab-df-container\">\n",
              "      <div>\n",
              "<style scoped>\n",
              "    .dataframe tbody tr th:only-of-type {\n",
              "        vertical-align: middle;\n",
              "    }\n",
              "\n",
              "    .dataframe tbody tr th {\n",
              "        vertical-align: top;\n",
              "    }\n",
              "\n",
              "    .dataframe thead th {\n",
              "        text-align: right;\n",
              "    }\n",
              "</style>\n",
              "<table border=\"1\" class=\"dataframe\">\n",
              "  <thead>\n",
              "    <tr style=\"text-align: right;\">\n",
              "      <th></th>\n",
              "      <th>toxic</th>\n",
              "      <th>severe_toxic</th>\n",
              "      <th>obscene</th>\n",
              "      <th>threat</th>\n",
              "      <th>insult</th>\n",
              "      <th>identity_hate</th>\n",
              "    </tr>\n",
              "  </thead>\n",
              "  <tbody>\n",
              "    <tr>\n",
              "      <th>count</th>\n",
              "      <td>159571.000000</td>\n",
              "      <td>159571.000000</td>\n",
              "      <td>159571.000000</td>\n",
              "      <td>159571.000000</td>\n",
              "      <td>159571.000000</td>\n",
              "      <td>159571.000000</td>\n",
              "    </tr>\n",
              "    <tr>\n",
              "      <th>mean</th>\n",
              "      <td>0.095844</td>\n",
              "      <td>0.009996</td>\n",
              "      <td>0.052948</td>\n",
              "      <td>0.002996</td>\n",
              "      <td>0.049364</td>\n",
              "      <td>0.008805</td>\n",
              "    </tr>\n",
              "    <tr>\n",
              "      <th>std</th>\n",
              "      <td>0.294379</td>\n",
              "      <td>0.099477</td>\n",
              "      <td>0.223931</td>\n",
              "      <td>0.054650</td>\n",
              "      <td>0.216627</td>\n",
              "      <td>0.093420</td>\n",
              "    </tr>\n",
              "    <tr>\n",
              "      <th>min</th>\n",
              "      <td>0.000000</td>\n",
              "      <td>0.000000</td>\n",
              "      <td>0.000000</td>\n",
              "      <td>0.000000</td>\n",
              "      <td>0.000000</td>\n",
              "      <td>0.000000</td>\n",
              "    </tr>\n",
              "    <tr>\n",
              "      <th>25%</th>\n",
              "      <td>0.000000</td>\n",
              "      <td>0.000000</td>\n",
              "      <td>0.000000</td>\n",
              "      <td>0.000000</td>\n",
              "      <td>0.000000</td>\n",
              "      <td>0.000000</td>\n",
              "    </tr>\n",
              "    <tr>\n",
              "      <th>50%</th>\n",
              "      <td>0.000000</td>\n",
              "      <td>0.000000</td>\n",
              "      <td>0.000000</td>\n",
              "      <td>0.000000</td>\n",
              "      <td>0.000000</td>\n",
              "      <td>0.000000</td>\n",
              "    </tr>\n",
              "    <tr>\n",
              "      <th>75%</th>\n",
              "      <td>0.000000</td>\n",
              "      <td>0.000000</td>\n",
              "      <td>0.000000</td>\n",
              "      <td>0.000000</td>\n",
              "      <td>0.000000</td>\n",
              "      <td>0.000000</td>\n",
              "    </tr>\n",
              "    <tr>\n",
              "      <th>max</th>\n",
              "      <td>1.000000</td>\n",
              "      <td>1.000000</td>\n",
              "      <td>1.000000</td>\n",
              "      <td>1.000000</td>\n",
              "      <td>1.000000</td>\n",
              "      <td>1.000000</td>\n",
              "    </tr>\n",
              "  </tbody>\n",
              "</table>\n",
              "</div>\n",
              "      <button class=\"colab-df-convert\" onclick=\"convertToInteractive('df-05e09495-fda3-4abd-8f1c-e2ba18e71f24')\"\n",
              "              title=\"Convert this dataframe to an interactive table.\"\n",
              "              style=\"display:none;\">\n",
              "        \n",
              "  <svg xmlns=\"http://www.w3.org/2000/svg\" height=\"24px\"viewBox=\"0 0 24 24\"\n",
              "       width=\"24px\">\n",
              "    <path d=\"M0 0h24v24H0V0z\" fill=\"none\"/>\n",
              "    <path d=\"M18.56 5.44l.94 2.06.94-2.06 2.06-.94-2.06-.94-.94-2.06-.94 2.06-2.06.94zm-11 1L8.5 8.5l.94-2.06 2.06-.94-2.06-.94L8.5 2.5l-.94 2.06-2.06.94zm10 10l.94 2.06.94-2.06 2.06-.94-2.06-.94-.94-2.06-.94 2.06-2.06.94z\"/><path d=\"M17.41 7.96l-1.37-1.37c-.4-.4-.92-.59-1.43-.59-.52 0-1.04.2-1.43.59L10.3 9.45l-7.72 7.72c-.78.78-.78 2.05 0 2.83L4 21.41c.39.39.9.59 1.41.59.51 0 1.02-.2 1.41-.59l7.78-7.78 2.81-2.81c.8-.78.8-2.07 0-2.86zM5.41 20L4 18.59l7.72-7.72 1.47 1.35L5.41 20z\"/>\n",
              "  </svg>\n",
              "      </button>\n",
              "      \n",
              "  <style>\n",
              "    .colab-df-container {\n",
              "      display:flex;\n",
              "      flex-wrap:wrap;\n",
              "      gap: 12px;\n",
              "    }\n",
              "\n",
              "    .colab-df-convert {\n",
              "      background-color: #E8F0FE;\n",
              "      border: none;\n",
              "      border-radius: 50%;\n",
              "      cursor: pointer;\n",
              "      display: none;\n",
              "      fill: #1967D2;\n",
              "      height: 32px;\n",
              "      padding: 0 0 0 0;\n",
              "      width: 32px;\n",
              "    }\n",
              "\n",
              "    .colab-df-convert:hover {\n",
              "      background-color: #E2EBFA;\n",
              "      box-shadow: 0px 1px 2px rgba(60, 64, 67, 0.3), 0px 1px 3px 1px rgba(60, 64, 67, 0.15);\n",
              "      fill: #174EA6;\n",
              "    }\n",
              "\n",
              "    [theme=dark] .colab-df-convert {\n",
              "      background-color: #3B4455;\n",
              "      fill: #D2E3FC;\n",
              "    }\n",
              "\n",
              "    [theme=dark] .colab-df-convert:hover {\n",
              "      background-color: #434B5C;\n",
              "      box-shadow: 0px 1px 3px 1px rgba(0, 0, 0, 0.15);\n",
              "      filter: drop-shadow(0px 1px 2px rgba(0, 0, 0, 0.3));\n",
              "      fill: #FFFFFF;\n",
              "    }\n",
              "  </style>\n",
              "\n",
              "      <script>\n",
              "        const buttonEl =\n",
              "          document.querySelector('#df-05e09495-fda3-4abd-8f1c-e2ba18e71f24 button.colab-df-convert');\n",
              "        buttonEl.style.display =\n",
              "          google.colab.kernel.accessAllowed ? 'block' : 'none';\n",
              "\n",
              "        async function convertToInteractive(key) {\n",
              "          const element = document.querySelector('#df-05e09495-fda3-4abd-8f1c-e2ba18e71f24');\n",
              "          const dataTable =\n",
              "            await google.colab.kernel.invokeFunction('convertToInteractive',\n",
              "                                                     [key], {});\n",
              "          if (!dataTable) return;\n",
              "\n",
              "          const docLinkHtml = 'Like what you see? Visit the ' +\n",
              "            '<a target=\"_blank\" href=https://colab.research.google.com/notebooks/data_table.ipynb>data table notebook</a>'\n",
              "            + ' to learn more about interactive tables.';\n",
              "          element.innerHTML = '';\n",
              "          dataTable['output_type'] = 'display_data';\n",
              "          await google.colab.output.renderOutput(dataTable, element);\n",
              "          const docLink = document.createElement('div');\n",
              "          docLink.innerHTML = docLinkHtml;\n",
              "          element.appendChild(docLink);\n",
              "        }\n",
              "      </script>\n",
              "    </div>\n",
              "  </div>\n",
              "  "
            ]
          },
          "metadata": {},
          "execution_count": 12
        }
      ],
      "source": [
        "# Using .describe method of pandas to analyze the statistics of dataset.\n",
        "train_df.describe()"
      ]
    },
    {
      "cell_type": "code",
      "execution_count": null,
      "metadata": {
        "colab": {
          "base_uri": "https://localhost:8080/"
        },
        "id": "tydnH05Ft47R",
        "outputId": "fd2fbe89-235f-4e38-c0d4-4aaddad873bb"
      },
      "outputs": [
        {
          "output_type": "execute_result",
          "data": {
            "text/plain": [
              "toxic            15294\n",
              "severe_toxic      1595\n",
              "obscene           8449\n",
              "threat             478\n",
              "insult            7877\n",
              "identity_hate     1405\n",
              "dtype: int64"
            ]
          },
          "metadata": {},
          "execution_count": 13
        }
      ],
      "source": [
        "# Labels are 1 or 0, so .sum method  will help us in understanding the distribution of dataset.\n",
        "label_sum = train_df[TOXIC_LABELS].sum()\n",
        "label_sum"
      ]
    },
    {
      "cell_type": "code",
      "execution_count": null,
      "metadata": {
        "colab": {
          "base_uri": "https://localhost:8080/",
          "height": 296
        },
        "id": "91SktcmmwZnO",
        "outputId": "423eb87e-8072-49f3-d2fb-9d7c49f522e4"
      },
      "outputs": [
        {
          "output_type": "display_data",
          "data": {
            "text/plain": [
              "<Figure size 432x288 with 1 Axes>"
            ],
            "image/png": "[encoded data removed]"
          },
          "metadata": {
            "needs_background": "light"
          }
        }
      ],
      "source": [
        "# Plotting the distribution of labels against occurences shows the unbalanced nature of dataset.\n",
        "plt.figure()\n",
        "plt.title(\"Num per toxic labels\")\n",
        "plt.ylabel(\"Num of occurrences\")\n",
        "plt.xlabel(\"Toxic Labels\")\n",
        "ax = sns.barplot(x=label_sum.index, y=label_sum.values)"
      ]
    },
    {
      "cell_type": "code",
      "execution_count": null,
      "metadata": {
        "colab": {
          "base_uri": "https://localhost:8080/",
          "height": 342
        },
        "id": "Q6VS5bQBxyyH",
        "outputId": "e307b3bd-7f8f-45cc-ed01-bd666463d1f1"
      },
      "outputs": [
        {
          "output_type": "execute_result",
          "data": {
            "text/plain": [
              "<matplotlib.axes._subplots.AxesSubplot at 0x7efd105539d0>"
            ]
          },
          "metadata": {},
          "execution_count": 15
        },
        {
          "output_type": "display_data",
          "data": {
            "text/plain": [
              "<Figure size 432x288 with 2 Axes>"
            ],
            "image/png": "[encoded data removed]"
          },
          "metadata": {
            "needs_background": "light"
          }
        }
      ],
      "source": [
        "# As the task of this assignment involves multi-label classification, it would be useful to understand the relationship between the labels and will also help with feature engineering.\n",
        "corr = train_df.corr()\n",
        "plt.figure()\n",
        "sns.heatmap(corr, xticklabels=corr.columns.values, yticklabels=corr.columns.values, annot=True)"
      ]
    },
    {
      "cell_type": "markdown",
      "metadata": {
        "id": "CVhFEiT74b_G"
      },
      "source": [
        "## Preprocessing Steps."
      ]
    },
    {
      "cell_type": "code",
      "execution_count": null,
      "metadata": {
        "colab": {
          "base_uri": "https://localhost:8080/"
        },
        "id": "nW_J_bJ94IOq",
        "outputId": "6bdf2eee-0d24-41ad-9176-0cf1878058f9"
      },
      "outputs": [
        {
          "output_type": "execute_result",
          "data": {
            "text/plain": [
              "0    Explanation\\nWhy the edits made under my usern...\n",
              "1    D'aww! He matches this background colour I'm s...\n",
              "2    Hey man, I'm really not trying to edit war. It...\n",
              "3    \"\\nMore\\nI can't make any real suggestions on ...\n",
              "4    You, sir, are my hero. Any chance you remember...\n",
              "Name: comment_text, dtype: object"
            ]
          },
          "metadata": {},
          "execution_count": 16
        }
      ],
      "source": [
        "train_df[\"comment_text\"].head()"
      ]
    },
    {
      "cell_type": "code",
      "execution_count": null,
      "metadata": {
        "id": "aixK7dIOTgoo"
      },
      "outputs": [],
      "source": [
        "nlp = spacy.load('en_core_web_sm')"
      ]
    },
    {
      "cell_type": "code",
      "execution_count": null,
      "metadata": {
        "id": "lgR3bEaU7tzI"
      },
      "outputs": [],
      "source": [
        "total_number_of_tokens = []\n",
        "number_of_sentences = []\n",
        "tokens = []\n",
        "glove_vector = []\n",
        "\n",
        "for doc in nlp.pipe(train_df['comment_text'].astype('unicode').values, batch_size=1000):\n",
        "  tokens.append([token.lower_ for token in doc if token.is_alpha and not token.is_stop])\n",
        "  total_number_of_tokens.append(len(doc))\n",
        "  number_of_sentences.append(len(list(doc.sents)))\n",
        "  glove_vector.append(doc.vector.tolist())\n",
        "\n",
        "train_df['total_number_of_tokens'] = total_number_of_tokens\n",
        "train_df['number_of_sentences'] = number_of_sentences\n",
        "train_df[\"tokens\"] = tokens\n",
        "train_df[\"glove_vector\"] = glove_vector"
      ]
    },
    {
      "cell_type": "code",
      "execution_count": null,
      "metadata": {
        "colab": {
          "base_uri": "https://localhost:8080/",
          "height": 582
        },
        "id": "3HEnkBJ4KUW2",
        "outputId": "04414cf0-9981-4d53-81ee-a5c755b2f801"
      },
      "outputs": [
        {
          "output_type": "execute_result",
          "data": {
            "text/plain": [
              "                 id                                       comment_text  toxic  \\\n",
              "0  0000997932d777bf  Explanation\\nWhy the edits made under my usern...      0   \n",
              "1  000103f0d9cfb60f  D'aww! He matches this background colour I'm s...      0   \n",
              "2  000113f07ec002fd  Hey man, I'm really not trying to edit war. It...      0   \n",
              "3  0001b41b1c6bb37e  \"\\nMore\\nI can't make any real suggestions on ...      0   \n",
              "4  0001d958c54c6e35  You, sir, are my hero. Any chance you remember...      0   \n",
              "\n",
              "   severe_toxic  obscene  threat  insult  identity_hate  \\\n",
              "0             0        0       0       0              0   \n",
              "1             0        0       0       0              0   \n",
              "2             0        0       0       0              0   \n",
              "3             0        0       0       0              0   \n",
              "4             0        0       0       0              0   \n",
              "\n",
              "   total_number_of_tokens  number_of_sentences  \\\n",
              "0                      50                    4   \n",
              "1                      28                    6   \n",
              "2                      48                    3   \n",
              "3                     133                   10   \n",
              "4                      18                    2   \n",
              "\n",
              "                                              tokens  \\\n",
              "0  [explanation, edits, username, hardcore, metal...   \n",
              "1  [matches, background, colour, seemingly, stuck...   \n",
              "2  [hey, man, trying, edit, war, guy, constantly,...   \n",
              "3  [real, suggestions, improvement, wondered, sec...   \n",
              "4                [sir, hero, chance, remember, page]   \n",
              "\n",
              "                                        glove_vector  \n",
              "0  [0.1826944351196289, 0.3525041937828064, -0.18...  \n",
              "1  [0.19189171493053436, 0.40444040298461914, -0....  \n",
              "2  [0.10182995349168777, 1.1778610944747925, -0.0...  \n",
              "3  [0.08876579999923706, 0.4697527587413788, 0.01...  \n",
              "4  [-0.44703754782676697, 0.9699418544769287, -0....  "
            ],
            "text/html": [
              "\n",
              "  <div id=\"df-0e22b717-b8e4-4356-a0f0-694ba82d4071\">\n",
              "    <div class=\"colab-df-container\">\n",
              "      <div>\n",
              "<style scoped>\n",
              "    .dataframe tbody tr th:only-of-type {\n",
              "        vertical-align: middle;\n",
              "    }\n",
              "\n",
              "    .dataframe tbody tr th {\n",
              "        vertical-align: top;\n",
              "    }\n",
              "\n",
              "    .dataframe thead th {\n",
              "        text-align: right;\n",
              "    }\n",
              "</style>\n",
              "<table border=\"1\" class=\"dataframe\">\n",
              "  <thead>\n",
              "    <tr style=\"text-align: right;\">\n",
              "      <th></th>\n",
              "      <th>id</th>\n",
              "      <th>comment_text</th>\n",
              "      <th>toxic</th>\n",
              "      <th>severe_toxic</th>\n",
              "      <th>obscene</th>\n",
              "      <th>threat</th>\n",
              "      <th>insult</th>\n",
              "      <th>identity_hate</th>\n",
              "      <th>total_number_of_tokens</th>\n",
              "      <th>number_of_sentences</th>\n",
              "      <th>tokens</th>\n",
              "      <th>glove_vector</th>\n",
              "    </tr>\n",
              "  </thead>\n",
              "  <tbody>\n",
              "    <tr>\n",
              "      <th>0</th>\n",
              "      <td>0000997932d777bf</td>\n",
              "      <td>Explanation\\nWhy the edits made under my usern...</td>\n",
              "      <td>0</td>\n",
              "      <td>0</td>\n",
              "      <td>0</td>\n",
              "      <td>0</td>\n",
              "      <td>0</td>\n",
              "      <td>0</td>\n",
              "      <td>50</td>\n",
              "      <td>4</td>\n",
              "      <td>[explanation, edits, username, hardcore, metal...</td>\n",
              "      <td>[0.1826944351196289, 0.3525041937828064, -0.18...</td>\n",
              "    </tr>\n",
              "    <tr>\n",
              "      <th>1</th>\n",
              "      <td>000103f0d9cfb60f</td>\n",
              "      <td>D'aww! He matches this background colour I'm s...</td>\n",
              "      <td>0</td>\n",
              "      <td>0</td>\n",
              "      <td>0</td>\n",
              "      <td>0</td>\n",
              "      <td>0</td>\n",
              "      <td>0</td>\n",
              "      <td>28</td>\n",
              "      <td>6</td>\n",
              "      <td>[matches, background, colour, seemingly, stuck...</td>\n",
              "      <td>[0.19189171493053436, 0.40444040298461914, -0....</td>\n",
              "    </tr>\n",
              "    <tr>\n",
              "      <th>2</th>\n",
              "      <td>000113f07ec002fd</td>\n",
              "      <td>Hey man, I'm really not trying to edit war. It...</td>\n",
              "      <td>0</td>\n",
              "      <td>0</td>\n",
              "      <td>0</td>\n",
              "      <td>0</td>\n",
              "      <td>0</td>\n",
              "      <td>0</td>\n",
              "      <td>48</td>\n",
              "      <td>3</td>\n",
              "      <td>[hey, man, trying, edit, war, guy, constantly,...</td>\n",
              "      <td>[0.10182995349168777, 1.1778610944747925, -0.0...</td>\n",
              "    </tr>\n",
              "    <tr>\n",
              "      <th>3</th>\n",
              "      <td>0001b41b1c6bb37e</td>\n",
              "      <td>\"\\nMore\\nI can't make any real suggestions on ...</td>\n",
              "      <td>0</td>\n",
              "      <td>0</td>\n",
              "      <td>0</td>\n",
              "      <td>0</td>\n",
              "      <td>0</td>\n",
              "      <td>0</td>\n",
              "      <td>133</td>\n",
              "      <td>10</td>\n",
              "      <td>[real, suggestions, improvement, wondered, sec...</td>\n",
              "      <td>[0.08876579999923706, 0.4697527587413788, 0.01...</td>\n",
              "    </tr>\n",
              "    <tr>\n",
              "      <th>4</th>\n",
              "      <td>0001d958c54c6e35</td>\n",
              "      <td>You, sir, are my hero. Any chance you remember...</td>\n",
              "      <td>0</td>\n",
              "      <td>0</td>\n",
              "      <td>0</td>\n",
              "      <td>0</td>\n",
              "      <td>0</td>\n",
              "      <td>0</td>\n",
              "      <td>18</td>\n",
              "      <td>2</td>\n",
              "      <td>[sir, hero, chance, remember, page]</td>\n",
              "      <td>[-0.44703754782676697, 0.9699418544769287, -0....</td>\n",
              "    </tr>\n",
              "  </tbody>\n",
              "</table>\n",
              "</div>\n",
              "      <button class=\"colab-df-convert\" onclick=\"convertToInteractive('df-0e22b717-b8e4-4356-a0f0-694ba82d4071')\"\n",
              "              title=\"Convert this dataframe to an interactive table.\"\n",
              "              style=\"display:none;\">\n",
              "        \n",
              "  <svg xmlns=\"http://www.w3.org/2000/svg\" height=\"24px\"viewBox=\"0 0 24 24\"\n",
              "       width=\"24px\">\n",
              "    <path d=\"M0 0h24v24H0V0z\" fill=\"none\"/>\n",
              "    <path d=\"M18.56 5.44l.94 2.06.94-2.06 2.06-.94-2.06-.94-.94-2.06-.94 2.06-2.06.94zm-11 1L8.5 8.5l.94-2.06 2.06-.94-2.06-.94L8.5 2.5l-.94 2.06-2.06.94zm10 10l.94 2.06.94-2.06 2.06-.94-2.06-.94-.94-2.06-.94 2.06-2.06.94z\"/><path d=\"M17.41 7.96l-1.37-1.37c-.4-.4-.92-.59-1.43-.59-.52 0-1.04.2-1.43.59L10.3 9.45l-7.72 7.72c-.78.78-.78 2.05 0 2.83L4 21.41c.39.39.9.59 1.41.59.51 0 1.02-.2 1.41-.59l7.78-7.78 2.81-2.81c.8-.78.8-2.07 0-2.86zM5.41 20L4 18.59l7.72-7.72 1.47 1.35L5.41 20z\"/>\n",
              "  </svg>\n",
              "      </button>\n",
              "      \n",
              "  <style>\n",
              "    .colab-df-container {\n",
              "      display:flex;\n",
              "      flex-wrap:wrap;\n",
              "      gap: 12px;\n",
              "    }\n",
              "\n",
              "    .colab-df-convert {\n",
              "      background-color: #E8F0FE;\n",
              "      border: none;\n",
              "      border-radius: 50%;\n",
              "      cursor: pointer;\n",
              "      display: none;\n",
              "      fill: #1967D2;\n",
              "      height: 32px;\n",
              "      padding: 0 0 0 0;\n",
              "      width: 32px;\n",
              "    }\n",
              "\n",
              "    .colab-df-convert:hover {\n",
              "      background-color: #E2EBFA;\n",
              "      box-shadow: 0px 1px 2px rgba(60, 64, 67, 0.3), 0px 1px 3px 1px rgba(60, 64, 67, 0.15);\n",
              "      fill: #174EA6;\n",
              "    }\n",
              "\n",
              "    [theme=dark] .colab-df-convert {\n",
              "      background-color: #3B4455;\n",
              "      fill: #D2E3FC;\n",
              "    }\n",
              "\n",
              "    [theme=dark] .colab-df-convert:hover {\n",
              "      background-color: #434B5C;\n",
              "      box-shadow: 0px 1px 3px 1px rgba(0, 0, 0, 0.15);\n",
              "      filter: drop-shadow(0px 1px 2px rgba(0, 0, 0, 0.3));\n",
              "      fill: #FFFFFF;\n",
              "    }\n",
              "  </style>\n",
              "\n",
              "      <script>\n",
              "        const buttonEl =\n",
              "          document.querySelector('#df-0e22b717-b8e4-4356-a0f0-694ba82d4071 button.colab-df-convert');\n",
              "        buttonEl.style.display =\n",
              "          google.colab.kernel.accessAllowed ? 'block' : 'none';\n",
              "\n",
              "        async function convertToInteractive(key) {\n",
              "          const element = document.querySelector('#df-0e22b717-b8e4-4356-a0f0-694ba82d4071');\n",
              "          const dataTable =\n",
              "            await google.colab.kernel.invokeFunction('convertToInteractive',\n",
              "                                                     [key], {});\n",
              "          if (!dataTable) return;\n",
              "\n",
              "          const docLinkHtml = 'Like what you see? Visit the ' +\n",
              "            '<a target=\"_blank\" href=https://colab.research.google.com/notebooks/data_table.ipynb>data table notebook</a>'\n",
              "            + ' to learn more about interactive tables.';\n",
              "          element.innerHTML = '';\n",
              "          dataTable['output_type'] = 'display_data';\n",
              "          await google.colab.output.renderOutput(dataTable, element);\n",
              "          const docLink = document.createElement('div');\n",
              "          docLink.innerHTML = docLinkHtml;\n",
              "          element.appendChild(docLink);\n",
              "        }\n",
              "      </script>\n",
              "    </div>\n",
              "  </div>\n",
              "  "
            ]
          },
          "metadata": {},
          "execution_count": 19
        }
      ],
      "source": [
        "train_df.head()"
      ]
    },
    {
      "cell_type": "code",
      "execution_count": null,
      "metadata": {
        "colab": {
          "base_uri": "https://localhost:8080/"
        },
        "id": "W7viPD-3KUTj",
        "outputId": "b2b21942-31c3-479b-a155-55d525c39716"
      },
      "outputs": [
        {
          "output_type": "stream",
          "name": "stdout",
          "text": [
            "Label: toxic\t - Metric: total_number_of_tokens: 998997\n",
            "Label: toxic\t - Metric: number_of_sentences: 115812\n",
            "Label: severe_toxic\t - Metric: total_number_of_tokens: 163241\n",
            "Label: severe_toxic\t - Metric: number_of_sentences: 27112\n",
            "Label: obscene\t - Metric: total_number_of_tokens: 529392\n",
            "Label: obscene\t - Metric: number_of_sentences: 65949\n",
            "Label: threat\t - Metric: total_number_of_tokens: 39104\n",
            "Label: threat\t - Metric: number_of_sentences: 4938\n",
            "Label: insult\t - Metric: total_number_of_tokens: 480209\n",
            "Label: insult\t - Metric: number_of_sentences: 60787\n",
            "Label: identity_hate\t - Metric: total_number_of_tokens: 89870\n",
            "Label: identity_hate\t - Metric: number_of_sentences: 10433\n"
          ]
        }
      ],
      "source": [
        "# Number of tokens and number of sentences in each class.\n",
        "for label in TOXIC_LABELS:\n",
        "    for metric in [\"total_number_of_tokens\", \"number_of_sentences\"]:\n",
        "      print(f\"Label: {label}\\t - Metric: {metric}: {train_df[train_df[label]==1][metric].sum()}\")"
      ]
    },
    {
      "cell_type": "code",
      "execution_count": null,
      "metadata": {
        "colab": {
          "base_uri": "https://localhost:8080/",
          "height": 1000
        },
        "id": "qUKoTSshKUQV",
        "outputId": "54e3c020-ea43-4a22-c890-ee89cbe78b6a"
      },
      "outputs": [
        {
          "output_type": "display_data",
          "data": {
            "text/plain": [
              "<Figure size 1440x720 with 1 Axes>"
            ],
            "image/png": "[encoded data removed]"
          },
          "metadata": {
            "needs_background": "light"
          }
        },
        {
          "output_type": "display_data",
          "data": {
            "text/plain": [
              "<Figure size 1440x720 with 1 Axes>"
            ],
            "image/png": "[encoded data removed]"
          },
          "metadata": {
            "needs_background": "light"
          }
        },
        {
          "output_type": "display_data",
          "data": {
            "text/plain": [
              "<Figure size 1440x720 with 1 Axes>"
            ],
            "image/png": "[encoded data removed]"
          },
          "metadata": {
            "needs_background": "light"
          }
        },
        {
          "output_type": "display_data",
          "data": {
            "text/plain": [
              "<Figure size 1440x720 with 1 Axes>"
            ],
            "image/png": "[encoded data removed]"
          },
          "metadata": {
            "needs_background": "light"
          }
        },
        {
          "output_type": "display_data",
          "data": {
            "text/plain": [
              "<Figure size 1440x720 with 1 Axes>"
            ],
            "image/png": "[encoded data removed]"
          },
          "metadata": {
            "needs_background": "light"
          }
        },
        {
          "output_type": "display_data",
          "data": {
            "text/plain": [
              "<Figure size 1440x720 with 1 Axes>"
            ],
            "image/png": "[encoded data removed]"
          },
          "metadata": {
            "needs_background": "light"
          }
        }
      ],
      "source": [
        "for label in TOXIC_LABELS:\n",
        "  words = list(train_df.loc[train_df[label] == 1, \"tokens\"].explode())\n",
        "  top_10_common = collections.Counter(words).most_common(10)\n",
        "  # create columns\n",
        "  words_arr, counts_arr = [], []\n",
        "  for w, c in top_10_common:\n",
        "    words_arr.append(w)\n",
        "    counts_arr.append(c)\n",
        "  plt.figure(figsize=(20, 10))\n",
        "  plt.title(f\"Top 10 word for {label}\")\n",
        "  plt.ylabel(\"Num of occurrences\")\n",
        "  plt.xlabel(\"Words\")\n",
        "  plt.bar(x=words_arr, height=counts_arr)\n",
        "  "
      ]
    },
    {
      "cell_type": "markdown",
      "metadata": {
        "id": "vg5RCumar1XV"
      },
      "source": [
        "# Application of Selected ML algorithms."
      ]
    },
    {
      "cell_type": "markdown",
      "metadata": {
        "id": "scEf_DNLvAkI"
      },
      "source": [
        "Algorithms selected Logistic Regression, SVM, Multi-Layer Perception using TF-IDF and GLOVE."
      ]
    },
    {
      "cell_type": "code",
      "execution_count": null,
      "metadata": {
        "colab": {
          "base_uri": "https://localhost:8080/"
        },
        "id": "hW-Llx7vru3L",
        "outputId": "c8a9b7ff-d644-4b4d-d294-9a84b39d22de"
      },
      "outputs": [
        {
          "output_type": "execute_result",
          "data": {
            "text/plain": [
              "TfidfVectorizer(max_features=5000)"
            ]
          },
          "metadata": {},
          "execution_count": 22
        }
      ],
      "source": [
        "# tf-idf vectors\n",
        "vectorizer = TfidfVectorizer(max_features=5000)\n",
        "vectorizer.fit(train_df[\"comment_text\"])\n",
        "vectorizer"
      ]
    },
    {
      "cell_type": "code",
      "execution_count": null,
      "metadata": {
        "colab": {
          "base_uri": "https://localhost:8080/"
        },
        "id": "736K8NEuruvX",
        "outputId": "8765ece1-dce6-4772-c5bf-35f94a8de60d"
      },
      "outputs": [
        {
          "output_type": "execute_result",
          "data": {
            "text/plain": [
              "{'analyzer': 'word',\n",
              " 'binary': False,\n",
              " 'decode_error': 'strict',\n",
              " 'dtype': numpy.float64,\n",
              " 'encoding': 'utf-8',\n",
              " 'input': 'content',\n",
              " 'lowercase': True,\n",
              " 'max_df': 1.0,\n",
              " 'max_features': 5000,\n",
              " 'min_df': 1,\n",
              " 'ngram_range': (1, 1),\n",
              " 'norm': 'l2',\n",
              " 'preprocessor': None,\n",
              " 'smooth_idf': True,\n",
              " 'stop_words': None,\n",
              " 'strip_accents': None,\n",
              " 'sublinear_tf': False,\n",
              " 'token_pattern': '(?u)\\\\b\\\\w\\\\w+\\\\b',\n",
              " 'tokenizer': None,\n",
              " 'use_idf': True,\n",
              " 'vocabulary': None}"
            ]
          },
          "metadata": {},
          "execution_count": 23
        }
      ],
      "source": [
        "vectorizer.get_params()"
      ]
    },
    {
      "cell_type": "code",
      "execution_count": null,
      "metadata": {
        "id": "wVGa5DXkruhD"
      },
      "outputs": [],
      "source": [
        "x_train = vectorizer.transform(train_df['comment_text'])"
      ]
    },
    {
      "cell_type": "code",
      "execution_count": null,
      "metadata": {
        "id": "14GRpZkkKUCp"
      },
      "outputs": [],
      "source": [
        "val_cut_off = int(len(train_df)*0.8)\n",
        "validation_set = train_df[val_cut_off:].copy()"
      ]
    },
    {
      "cell_type": "markdown",
      "source": [
        "# Logistic regression (TF-IDF)"
      ],
      "metadata": {
        "id": "Xp66bFWKVdkn"
      }
    },
    {
      "cell_type": "code",
      "execution_count": null,
      "metadata": {
        "colab": {
          "base_uri": "https://localhost:8080/"
        },
        "id": "i8otHO36AVFq",
        "outputId": "151740ba-3723-4586-b168-bdfaeed8d1ed"
      },
      "outputs": [
        {
          "output_type": "stream",
          "name": "stdout",
          "text": [
            "\n",
            "Label = toxic\n",
            "|              |   precision |   recall |   f1-score |      support |\n",
            "|:-------------|------------:|---------:|-----------:|-------------:|\n",
            "| 0            |    0.961478 | 0.99394  |   0.97744  | 28878        |\n",
            "| 1            |    0.915131 | 0.621337 |   0.740145 |  3037        |\n",
            "| accuracy     |    0.958483 | 0.958483 |   0.958483 |     0.958483 |\n",
            "| macro avg    |    0.938304 | 0.807638 |   0.858792 | 31915        |\n",
            "| weighted avg |    0.957068 | 0.958483 |   0.954859 | 31915        |\n",
            "AUC: 0.8076384345593123\n",
            "\n",
            "\n",
            "Label = severe_toxic\n",
            "|              |   precision |   recall |   f1-score |      support |\n",
            "|:-------------|------------:|---------:|-----------:|-------------:|\n",
            "| 0            |    0.992511 | 0.99807  |   0.995283 | 31604        |\n",
            "| 1            |    0.544776 | 0.234727 |   0.32809  |   311        |\n",
            "| accuracy     |    0.990631 | 0.990631 |   0.990631 |     0.990631 |\n",
            "| macro avg    |    0.768644 | 0.616398 |   0.661686 | 31915        |\n",
            "| weighted avg |    0.988148 | 0.990631 |   0.988781 | 31915        |\n",
            "AUC: 0.6163982763384993\n",
            "\n",
            "\n",
            "Label = obscene\n",
            "|              |   precision |   recall |   f1-score |      support |\n",
            "|:-------------|------------:|---------:|-----------:|-------------:|\n",
            "| 0            |    0.980927 | 0.996429 |   0.988617 | 30246        |\n",
            "| 1            |    0.90932  | 0.648892 |   0.757343 |  1669        |\n",
            "| accuracy     |    0.978255 | 0.978255 |   0.978255 |     0.978255 |\n",
            "| macro avg    |    0.945123 | 0.82266  |   0.87298  | 31915        |\n",
            "| weighted avg |    0.977182 | 0.978255 |   0.976523 | 31915        |\n",
            "AUC: 0.8226604158661112\n",
            "\n",
            "\n",
            "Label = threat\n",
            "|              |   precision |   recall |   f1-score |      support |\n",
            "|:-------------|------------:|---------:|-----------:|-------------:|\n",
            "| 0            |    0.997711 | 0.999906 |   0.998807 | 31823        |\n",
            "| 1            |    0.863636 | 0.206522 |   0.333333 |    92        |\n",
            "| accuracy     |    0.997619 | 0.997619 |   0.997619 |     0.997619 |\n",
            "| macro avg    |    0.930674 | 0.603214 |   0.66607  | 31915        |\n",
            "| weighted avg |    0.997325 | 0.997619 |   0.996889 | 31915        |\n",
            "AUC: 0.6032137338457692\n",
            "\n",
            "\n",
            "Label = insult\n",
            "|              |   precision |   recall |   f1-score |      support |\n",
            "|:-------------|------------:|---------:|-----------:|-------------:|\n",
            "| 0            |    0.976502 | 0.994626 |   0.985481 | 30333        |\n",
            "| 1            |    0.840039 | 0.541087 |   0.658208 |  1582        |\n",
            "| accuracy     |    0.972145 | 0.972145 |   0.972145 |     0.972145 |\n",
            "| macro avg    |    0.908271 | 0.767857 |   0.821845 | 31915        |\n",
            "| weighted avg |    0.969737 | 0.972145 |   0.969258 | 31915        |\n",
            "AUC: 0.7678567729638017\n",
            "\n",
            "\n",
            "Label = identity_hate\n",
            "|              |   precision |   recall |   f1-score |      support |\n",
            "|:-------------|------------:|---------:|-----------:|-------------:|\n",
            "| 0            |    0.991868 | 0.999431 |   0.995635 | 31610        |\n",
            "| 1            |    0.71875  | 0.15082  |   0.249322 |   305        |\n",
            "| accuracy     |    0.991321 | 0.991321 |   0.991321 |     0.991321 |\n",
            "| macro avg    |    0.855309 | 0.575125 |   0.622479 | 31915        |\n",
            "| weighted avg |    0.989258 | 0.991321 |   0.988503 | 31915        |\n",
            "AUC: 0.5751251160402653\n",
            "\n",
            "Average AUC: 0.6988154582689599\n"
          ]
        }
      ],
      "source": [
        "lr_classifier = LogisticRegression(solver='liblinear')\n",
        "average_roc = 0\n",
        "    \n",
        "for label in TOXIC_LABELS:\n",
        "    lr_classifier.fit(x_train[:val_cut_off], train_df[label][:val_cut_off])\n",
        "    predictions = lr_classifier.predict(x_train[val_cut_off:])\n",
        "    print(f'\\nLabel = {label}')\n",
        "    report = classification_report(validation_set[label], predictions, output_dict=True)\n",
        "    df = pd.DataFrame(report).transpose()\n",
        "    print(df.to_markdown())\n",
        "    print(f'AUC: {roc_auc_score(validation_set[label], predictions)}\\n')\n",
        "    average_roc += roc_auc_score(validation_set[label], predictions)\n",
        "                                 \n",
        "print(f'Average AUC: {average_roc/len(TOXIC_LABELS)}')"
      ]
    },
    {
      "cell_type": "markdown",
      "source": [
        "## Logistic regression (GLOVE)"
      ],
      "metadata": {
        "id": "lRpdrgQcVWaN"
      }
    },
    {
      "cell_type": "code",
      "execution_count": null,
      "metadata": {
        "colab": {
          "base_uri": "https://localhost:8080/"
        },
        "id": "ox73dHn9Ci87",
        "outputId": "2565f90d-9196-44ff-8dba-83589a25d0e9"
      },
      "outputs": [
        {
          "output_type": "stream",
          "name": "stdout",
          "text": [
            "\n",
            "Label = toxic\n",
            "|              |   precision |   recall |   f1-score |     support |\n",
            "|:-------------|------------:|---------:|-----------:|------------:|\n",
            "| 0            |    0.926527 | 0.985144 |   0.954937 | 28878       |\n",
            "| 1            |    0.645455 | 0.257162 |   0.367789 |  3037       |\n",
            "| accuracy     |    0.91587  | 0.91587  |   0.91587  |     0.91587 |\n",
            "| macro avg    |    0.785991 | 0.621153 |   0.661363 | 31915       |\n",
            "| weighted avg |    0.89978  | 0.91587  |   0.899064 | 31915       |\n",
            "AUC: 0.6211530366425417\n",
            "\n",
            "\n",
            "Label = severe_toxic\n",
            "|              |   precision |    recall |   f1-score |      support |\n",
            "|:-------------|------------:|----------:|-----------:|-------------:|\n",
            "| 0            |    0.990897 | 0.998861  |   0.994863 | 31604        |\n",
            "| 1            |    0.368421 | 0.0675241 |   0.11413  |   311        |\n",
            "| accuracy     |    0.989785 | 0.989785  |   0.989785 |     0.989785 |\n",
            "| macro avg    |    0.679659 | 0.533193  |   0.554497 | 31915        |\n",
            "| weighted avg |    0.984831 | 0.989785  |   0.986281 | 31915        |\n",
            "AUC: 0.5331925097193525\n",
            "\n",
            "\n",
            "Label = obscene\n",
            "|              |   precision |   recall |   f1-score |      support |\n",
            "|:-------------|------------:|---------:|-----------:|-------------:|\n",
            "| 0            |    0.957248 | 0.992726 |   0.974664 | 30246        |\n",
            "| 1            |    0.59854  | 0.196525 |   0.295895 |  1669        |\n",
            "| accuracy     |    0.951089 | 0.951089 |   0.951089 |     0.951089 |\n",
            "| macro avg    |    0.777894 | 0.594626 |   0.63528  | 31915        |\n",
            "| weighted avg |    0.938489 | 0.951089 |   0.939168 | 31915        |\n",
            "AUC: 0.5946255880529409\n",
            "\n",
            "\n",
            "Label = threat\n",
            "|              |   precision |    recall |   f1-score |      support |\n",
            "|:-------------|------------:|----------:|-----------:|-------------:|\n",
            "| 0            |    0.997179 | 0.999686  |  0.998431  | 31823        |\n",
            "| 1            |    0.166667 | 0.0217391 |  0.0384615 |    92        |\n",
            "| accuracy     |    0.996867 | 0.996867  |  0.996867  |     0.996867 |\n",
            "| macro avg    |    0.581923 | 0.510712  |  0.518446  | 31915        |\n",
            "| weighted avg |    0.994785 | 0.996867  |  0.995664  | 31915        |\n",
            "AUC: 0.510712446152564\n",
            "\n",
            "\n",
            "Label = insult\n",
            "|              |   precision |   recall |   f1-score |      support |\n",
            "|:-------------|------------:|---------:|-----------:|-------------:|\n",
            "| 0            |    0.958514 | 0.992483 |   0.975203 | 30333        |\n",
            "| 1            |    0.550296 | 0.176359 |   0.267113 |  1582        |\n",
            "| accuracy     |    0.952029 | 0.952029 |   0.952029 |     0.952029 |\n",
            "| macro avg    |    0.754405 | 0.584421 |   0.621158 | 31915        |\n",
            "| weighted avg |    0.938279 | 0.952029 |   0.940103 | 31915        |\n",
            "AUC: 0.5844212365373932\n",
            "\n",
            "\n",
            "Label = identity_hate\n",
            "|              |   precision |     recall |   f1-score |      support |\n",
            "|:-------------|------------:|-----------:|-----------:|-------------:|\n",
            "| 0            |   0.990468  | 0.999336   | 0.994882   | 31610        |\n",
            "| 1            |   0.0454545 | 0.00327869 | 0.00611621 |   305        |\n",
            "| accuracy     |   0.989817  | 0.989817   | 0.989817   |     0.989817 |\n",
            "| macro avg    |   0.517961  | 0.501307   | 0.500499   | 31915        |\n",
            "| weighted avg |   0.981437  | 0.989817   | 0.985433   | 31915        |\n",
            "AUC: 0.5013071708994352\n",
            "\n",
            "Average AUC: 0.5575686646673712\n"
          ]
        }
      ],
      "source": [
        "lr_classifier = LogisticRegression(solver='liblinear')\n",
        "average_roc = 0\n",
        "    \n",
        "for label in TOXIC_LABELS:\n",
        "    lr_classifier.fit(train_df[\"glove_vector\"].to_list()[:val_cut_off], train_df[label][:val_cut_off])\n",
        "    predictions = lr_classifier.predict(train_df[\"glove_vector\"].to_list()[val_cut_off:])\n",
        "    print(f'\\nLabel = {label}')\n",
        "    report = classification_report(validation_set[label], predictions, output_dict=True)\n",
        "    df = pd.DataFrame(report).transpose()\n",
        "    print(df.to_markdown())\n",
        "    print(f'AUC: {roc_auc_score(validation_set[label], predictions)}\\n')\n",
        "    average_roc += roc_auc_score(validation_set[label], predictions)\n",
        "                                 \n",
        "print(f'Average AUC: {average_roc/len(TOXIC_LABELS)}')"
      ]
    },
    {
      "cell_type": "markdown",
      "source": [
        "## SVM (TF-IDF)"
      ],
      "metadata": {
        "id": "Af78K3LSVQ9g"
      }
    },
    {
      "cell_type": "code",
      "execution_count": null,
      "metadata": {
        "id": "bFlSU2LDb7l6",
        "colab": {
          "base_uri": "https://localhost:8080/"
        },
        "outputId": "6499c626-4978-4264-cdf3-1abf939f4261"
      },
      "outputs": [
        {
          "output_type": "stream",
          "name": "stdout",
          "text": [
            "\n",
            "Label = toxic\n",
            "|              |   precision |   recall |   f1-score |     support |\n",
            "|:-------------|------------:|---------:|-----------:|------------:|\n",
            "| 0            |    0.961906 | 0.994182 |   0.977778 | 28878       |\n",
            "| 1            |    0.918762 | 0.625617 |   0.744368 |  3037       |\n",
            "| accuracy     |    0.95911  | 0.95911  |   0.95911  |     0.95911 |\n",
            "| macro avg    |    0.940334 | 0.8099   |   0.861073 | 31915       |\n",
            "| weighted avg |    0.9578   | 0.95911  |   0.955567 | 31915       |\n",
            "AUC: 0.8098999040916581\n",
            "\n",
            "\n",
            "Label = severe_toxic\n",
            "|              |   precision |    recall |   f1-score |      support |\n",
            "|:-------------|------------:|----------:|-----------:|-------------:|\n",
            "| 0            |    0.991152 | 0.999525  |   0.995321 | 31604        |\n",
            "| 1            |    0.659091 | 0.0932476 |   0.16338  |   311        |\n",
            "| accuracy     |    0.990694 | 0.990694  |   0.990694 |     0.990694 |\n",
            "| macro avg    |    0.825121 | 0.546386  |   0.579351 | 31915        |\n",
            "| weighted avg |    0.987916 | 0.990694  |   0.987214 | 31915        |\n",
            "AUC: 0.5463864824795265\n",
            "\n",
            "\n",
            "Label = obscene\n",
            "|              |   precision |   recall |   f1-score |      support |\n",
            "|:-------------|------------:|---------:|-----------:|-------------:|\n",
            "| 0            |    0.982552 | 0.996066 |   0.989262 | 30246        |\n",
            "| 1            |    0.905028 | 0.679449 |   0.776181 |  1669        |\n",
            "| accuracy     |    0.979508 | 0.979508 |   0.979508 |     0.979508 |\n",
            "| macro avg    |    0.94379  | 0.837757 |   0.882722 | 31915        |\n",
            "| weighted avg |    0.978498 | 0.979508 |   0.978119 | 31915        |\n",
            "AUC: 0.8377571835851153\n",
            "\n",
            "\n",
            "Label = threat\n",
            "|              |   precision |   recall |   f1-score |      support |\n",
            "|:-------------|------------:|---------:|-----------:|-------------:|\n",
            "| 0            |    0.997555 | 0.999937 |   0.998745 | 31823        |\n",
            "| 1            |    0.875    | 0.152174 |   0.259259 |    92        |\n",
            "| accuracy     |    0.997493 | 0.997493 |   0.997493 |     0.997493 |\n",
            "| macro avg    |    0.936277 | 0.576056 |   0.629002 | 31915        |\n",
            "| weighted avg |    0.997201 | 0.997493 |   0.996613 | 31915        |\n",
            "AUC: 0.5760555327087737\n",
            "\n",
            "\n",
            "Label = insult\n",
            "|              |   precision |   recall |   f1-score |      support |\n",
            "|:-------------|------------:|---------:|-----------:|-------------:|\n",
            "| 0            |    0.977719 | 0.993868 |   0.985728 | 30333        |\n",
            "| 1            |    0.827937 | 0.56574  |   0.672174 |  1582        |\n",
            "| accuracy     |    0.972646 | 0.972646 |   0.972646 |     0.972646 |\n",
            "| macro avg    |    0.902828 | 0.779804 |   0.828951 | 31915        |\n",
            "| weighted avg |    0.970295 | 0.972646 |   0.970185 | 31915        |\n",
            "AUC: 0.779803817324287\n",
            "\n",
            "\n",
            "Label = identity_hate\n",
            "|              |   precision |   recall |   f1-score |      support |\n",
            "|:-------------|------------:|---------:|-----------:|-------------:|\n",
            "| 0            |    0.991683 | 0.999557 |   0.995604 | 31610        |\n",
            "| 1            |    0.740741 | 0.131148 |   0.222841 |   305        |\n",
            "| accuracy     |    0.991258 | 0.991258 |   0.991258 |     0.991258 |\n",
            "| macro avg    |    0.866212 | 0.565352 |   0.609223 | 31915        |\n",
            "| weighted avg |    0.989284 | 0.991258 |   0.988219 | 31915        |\n",
            "AUC: 0.56535232158323\n",
            "\n",
            "Average AUC: 0.6858758736287651\n"
          ]
        }
      ],
      "source": [
        "svm_classifier = SVC()\n",
        "average_roc = 0\n",
        "    \n",
        "for label in TOXIC_LABELS:\n",
        "    svm_classifier.fit(x_train[:val_cut_off], train_df[label][:val_cut_off])\n",
        "    predictions = svm_classifier.predict(x_train[val_cut_off:])\n",
        "    print(f'\\nLabel = {label}')\n",
        "    report = classification_report(validation_set[label], predictions, output_dict=True)\n",
        "    df = pd.DataFrame(report).transpose()\n",
        "    print(df.to_markdown())\n",
        "    print(f'AUC: {roc_auc_score(validation_set[label], predictions)}\\n')\n",
        "    average_roc += roc_auc_score(validation_set[label], predictions)\n",
        "                                 \n",
        "print(f'Average AUC: {average_roc/len(TOXIC_LABELS)}')"
      ]
    },
    {
      "cell_type": "markdown",
      "source": [
        "## SVM (GLOVE)"
      ],
      "metadata": {
        "id": "cv5lvRisV4Bv"
      }
    },
    {
      "cell_type": "code",
      "source": [
        "svm_classifier = SVC()\n",
        "average_roc = 0\n",
        "    \n",
        "for label in TOXIC_LABELS:\n",
        "    svm_classifier.fit(train_df[\"glove_vector\"].to_list()[:val_cut_off], train_df[label][:val_cut_off])\n",
        "    predictions = svm_classifier.predict(train_df[\"glove_vector\"].to_list()[val_cut_off:])\n",
        "    print(f'\\nLabel = {label}')\n",
        "    report = classification_report(validation_set[label], predictions, output_dict=True)\n",
        "    df = pd.DataFrame(report).transpose()\n",
        "    print(df.to_markdown())\n",
        "    print(f'AUC: {roc_auc_score(validation_set[label], predictions)}\\n')\n",
        "    average_roc += roc_auc_score(validation_set[label], predictions)\n",
        "                                 \n",
        "print(f'Average AUC: {average_roc/len(TOXIC_LABELS)}')"
      ],
      "metadata": {
        "id": "rHU9kZtrV7n2",
        "colab": {
          "base_uri": "https://localhost:8080/"
        },
        "outputId": "9ec915d5-1169-4b07-abc1-f9860921be67"
      },
      "execution_count": null,
      "outputs": [
        {
          "output_type": "stream",
          "name": "stdout",
          "text": [
            "\n",
            "Label = toxic\n",
            "|              |   precision |   recall |   f1-score |      support |\n",
            "|:-------------|------------:|---------:|-----------:|-------------:|\n",
            "| 0            |    0.923317 | 0.994009 |   0.95736  | 28878        |\n",
            "| 1            |    0.790557 | 0.215015 |   0.338079 |  3037        |\n",
            "| accuracy     |    0.919881 | 0.919881 |   0.919881 |     0.919881 |\n",
            "| macro avg    |    0.856937 | 0.604512 |   0.64772  | 31915        |\n",
            "| weighted avg |    0.910684 | 0.919881 |   0.89843  | 31915        |\n",
            "AUC: 0.6045120488374754\n",
            "\n",
            "\n",
            "Label = severe_toxic\n",
            "|              |   precision |    recall |   f1-score |      support |\n",
            "|:-------------|------------:|----------:|-----------:|-------------:|\n",
            "| 0            |    0.99044  | 0.999873  |  0.995135  | 31604        |\n",
            "| 1            |    0.6      | 0.0192926 |  0.0373832 |   311        |\n",
            "| accuracy     |    0.990318 | 0.990318  |  0.990318  |     0.990318 |\n",
            "| macro avg    |    0.79522  | 0.509583  |  0.516259  | 31915        |\n",
            "| weighted avg |    0.986636 | 0.990318  |  0.985802  | 31915        |\n",
            "AUC: 0.509583019122086\n",
            "\n",
            "\n",
            "Label = obscene\n",
            "|              |   precision |   recall |   f1-score |      support |\n",
            "|:-------------|------------:|---------:|-----------:|-------------:|\n",
            "| 0            |    0.954429 | 0.998512 |   0.975973 | 30246        |\n",
            "| 1            |    0.834559 | 0.13601  |   0.2339   |  1669        |\n",
            "| accuracy     |    0.953407 | 0.953407 |   0.953407 |     0.953407 |\n",
            "| macro avg    |    0.894494 | 0.567261 |   0.604937 | 31915        |\n",
            "| weighted avg |    0.94816  | 0.953407 |   0.937166 | 31915        |\n",
            "AUC: 0.5672608932695575\n",
            "\n",
            "\n",
            "Label = threat\n",
            "|              |   precision |   recall |   f1-score |      support |\n",
            "|:-------------|------------:|---------:|-----------:|-------------:|\n",
            "| 0            |    0.997117 | 1        |   0.998557 | 31823        |\n",
            "| 1            |    0        | 0        |   0        |    92        |\n",
            "| accuracy     |    0.997117 | 0.997117 |   0.997117 |     0.997117 |\n",
            "| macro avg    |    0.498559 | 0.5      |   0.499278 | 31915        |\n",
            "| weighted avg |    0.994243 | 0.997117 |   0.995678 | 31915        |\n",
            "AUC: 0.5\n",
            "\n"
          ]
        },
        {
          "output_type": "stream",
          "name": "stderr",
          "text": [
            "/usr/local/lib/python3.7/dist-packages/sklearn/metrics/_classification.py:1318: UndefinedMetricWarning: Precision and F-score are ill-defined and being set to 0.0 in labels with no predicted samples. Use `zero_division` parameter to control this behavior.\n",
            "  _warn_prf(average, modifier, msg_start, len(result))\n",
            "/usr/local/lib/python3.7/dist-packages/sklearn/metrics/_classification.py:1318: UndefinedMetricWarning: Precision and F-score are ill-defined and being set to 0.0 in labels with no predicted samples. Use `zero_division` parameter to control this behavior.\n",
            "  _warn_prf(average, modifier, msg_start, len(result))\n",
            "/usr/local/lib/python3.7/dist-packages/sklearn/metrics/_classification.py:1318: UndefinedMetricWarning: Precision and F-score are ill-defined and being set to 0.0 in labels with no predicted samples. Use `zero_division` parameter to control this behavior.\n",
            "  _warn_prf(average, modifier, msg_start, len(result))\n"
          ]
        },
        {
          "output_type": "stream",
          "name": "stdout",
          "text": [
            "\n",
            "Label = insult\n",
            "|              |   precision |   recall |   f1-score |      support |\n",
            "|:-------------|------------:|---------:|-----------:|-------------:|\n",
            "| 0            |    0.955626 | 0.99822  |   0.976458 | 30333        |\n",
            "| 1            |    0.765217 | 0.111252 |   0.19426  |  1582        |\n",
            "| accuracy     |    0.954253 | 0.954253 |   0.954253 |     0.954253 |\n",
            "| macro avg    |    0.860422 | 0.554736 |   0.585359 | 31915        |\n",
            "| weighted avg |    0.946187 | 0.954253 |   0.937686 | 31915        |\n",
            "AUC: 0.5547356704674197\n",
            "\n",
            "\n",
            "Label = identity_hate\n",
            "|              |   precision |     recall |   f1-score |      support |\n",
            "|:-------------|------------:|-----------:|-----------:|-------------:|\n",
            "| 0            |    0.990474 | 1          | 0.995214   | 31610        |\n",
            "| 1            |    1        | 0.00327869 | 0.00653595 |   305        |\n",
            "| accuracy     |    0.990475 | 0.990475   | 0.990475   |     0.990475 |\n",
            "| macro avg    |    0.995237 | 0.501639   | 0.500875   | 31915        |\n",
            "| weighted avg |    0.990565 | 0.990475   | 0.985766   | 31915        |\n",
            "AUC: 0.5016393442622951\n",
            "\n",
            "Average AUC: 0.5396218293264723\n"
          ]
        }
      ]
    },
    {
      "cell_type": "markdown",
      "source": [
        "## MLP (TF-IDF)"
      ],
      "metadata": {
        "id": "bzFWcrfKWH7m"
      }
    },
    {
      "cell_type": "code",
      "source": [
        "mlp_classifier = MLPClassifier(max_iter=20)\n",
        "average_roc = 0\n",
        "    \n",
        "for label in TOXIC_LABELS:\n",
        "    mlp_classifier.fit(x_train[:val_cut_off], train_df[label][:val_cut_off])\n",
        "    predictions = mlp_classifier.predict(x_train[val_cut_off:])\n",
        "    print(f'\\nLabel = {label}')\n",
        "    report = classification_report(validation_set[label], predictions, output_dict=True)\n",
        "    df = pd.DataFrame(report).transpose()\n",
        "    print(df.to_markdown())\n",
        "    print(f'AUC: {roc_auc_score(validation_set[label], predictions)}\\n')\n",
        "    average_roc += roc_auc_score(validation_set[label], predictions)\n",
        "                                 \n",
        "print(f'Average AUC: {average_roc/len(TOXIC_LABELS)}')"
      ],
      "metadata": {
        "id": "L_acUTehWORI",
        "colab": {
          "base_uri": "https://localhost:8080/"
        },
        "outputId": "6c1641fc-ab28-4172-818f-5f9f3dbd56a5"
      },
      "execution_count": null,
      "outputs": [
        {
          "output_type": "stream",
          "name": "stderr",
          "text": [
            "/usr/local/lib/python3.7/dist-packages/sklearn/neural_network/_multilayer_perceptron.py:696: ConvergenceWarning: Stochastic Optimizer: Maximum iterations (20) reached and the optimization hasn't converged yet.\n",
            "  ConvergenceWarning,\n"
          ]
        },
        {
          "output_type": "stream",
          "name": "stdout",
          "text": [
            "\n",
            "Label = toxic\n",
            "|              |   precision |   recall |   f1-score |      support |\n",
            "|:-------------|------------:|---------:|-----------:|-------------:|\n",
            "| 0            |    0.968098 | 0.981474 |   0.97474  | 28878        |\n",
            "| 1            |    0.797195 | 0.69246  |   0.741145 |  3037        |\n",
            "| accuracy     |    0.953971 | 0.953971 |   0.953971 |     0.953971 |\n",
            "| macro avg    |    0.882646 | 0.836967 |   0.857943 | 31915        |\n",
            "| weighted avg |    0.951835 | 0.953971 |   0.952511 | 31915        |\n",
            "AUC: 0.8369667252077666\n",
            "\n"
          ]
        },
        {
          "output_type": "stream",
          "name": "stderr",
          "text": [
            "/usr/local/lib/python3.7/dist-packages/sklearn/neural_network/_multilayer_perceptron.py:696: ConvergenceWarning: Stochastic Optimizer: Maximum iterations (20) reached and the optimization hasn't converged yet.\n",
            "  ConvergenceWarning,\n"
          ]
        },
        {
          "output_type": "stream",
          "name": "stdout",
          "text": [
            "\n",
            "Label = severe_toxic\n",
            "|              |   precision |   recall |   f1-score |      support |\n",
            "|:-------------|------------:|---------:|-----------:|-------------:|\n",
            "| 0            |    0.993491 | 0.994874 |   0.994182 | 31604        |\n",
            "| 1            |    0.393258 | 0.337621 |   0.363322 |   311        |\n",
            "| accuracy     |    0.988469 | 0.988469 |   0.988469 |     0.988469 |\n",
            "| macro avg    |    0.693375 | 0.666247 |   0.678752 | 31915        |\n",
            "| weighted avg |    0.987642 | 0.988469 |   0.988035 | 31915        |\n",
            "AUC: 0.6662473226759932\n",
            "\n"
          ]
        },
        {
          "output_type": "stream",
          "name": "stderr",
          "text": [
            "/usr/local/lib/python3.7/dist-packages/sklearn/neural_network/_multilayer_perceptron.py:696: ConvergenceWarning: Stochastic Optimizer: Maximum iterations (20) reached and the optimization hasn't converged yet.\n",
            "  ConvergenceWarning,\n"
          ]
        },
        {
          "output_type": "stream",
          "name": "stdout",
          "text": [
            "\n",
            "Label = obscene\n",
            "|              |   precision |   recall |   f1-score |      support |\n",
            "|:-------------|------------:|---------:|-----------:|-------------:|\n",
            "| 0            |    0.985416 | 0.989652 |   0.987529 | 30246        |\n",
            "| 1            |    0.796621 | 0.734572 |   0.764339 |  1669        |\n",
            "| accuracy     |    0.976312 | 0.976312 |   0.976312 |     0.976312 |\n",
            "| macro avg    |    0.891019 | 0.862112 |   0.875934 | 31915        |\n",
            "| weighted avg |    0.975543 | 0.976312 |   0.975858 | 31915        |\n",
            "AUC: 0.8621115619644103\n",
            "\n"
          ]
        },
        {
          "output_type": "stream",
          "name": "stderr",
          "text": [
            "/usr/local/lib/python3.7/dist-packages/sklearn/neural_network/_multilayer_perceptron.py:696: ConvergenceWarning: Stochastic Optimizer: Maximum iterations (20) reached and the optimization hasn't converged yet.\n",
            "  ConvergenceWarning,\n"
          ]
        },
        {
          "output_type": "stream",
          "name": "stdout",
          "text": [
            "\n",
            "Label = threat\n",
            "|              |   precision |   recall |   f1-score |      support |\n",
            "|:-------------|------------:|---------:|-----------:|-------------:|\n",
            "| 0            |    0.998242 | 0.999214 |   0.998728 | 31823        |\n",
            "| 1            |    0.590164 | 0.391304 |   0.470588 |    92        |\n",
            "| accuracy     |    0.997462 | 0.997462 |   0.997462 |     0.997462 |\n",
            "| macro avg    |    0.794203 | 0.695259 |   0.734658 | 31915        |\n",
            "| weighted avg |    0.997066 | 0.997462 |   0.997206 | 31915        |\n",
            "AUC: 0.6952593762509752\n",
            "\n"
          ]
        },
        {
          "output_type": "stream",
          "name": "stderr",
          "text": [
            "/usr/local/lib/python3.7/dist-packages/sklearn/neural_network/_multilayer_perceptron.py:696: ConvergenceWarning: Stochastic Optimizer: Maximum iterations (20) reached and the optimization hasn't converged yet.\n",
            "  ConvergenceWarning,\n"
          ]
        },
        {
          "output_type": "stream",
          "name": "stdout",
          "text": [
            "\n",
            "Label = insult\n",
            "|              |   precision |   recall |   f1-score |      support |\n",
            "|:-------------|------------:|---------:|-----------:|-------------:|\n",
            "| 0            |    0.978969 | 0.988297 |   0.983611 | 30333        |\n",
            "| 1            |    0.725445 | 0.59292  |   0.652522 |  1582        |\n",
            "| accuracy     |    0.968698 | 0.968698 |   0.968698 |     0.968698 |\n",
            "| macro avg    |    0.852207 | 0.790608 |   0.818066 | 31915        |\n",
            "| weighted avg |    0.966402 | 0.968698 |   0.967199 | 31915        |\n",
            "AUC: 0.7906084643349673\n",
            "\n"
          ]
        },
        {
          "output_type": "stream",
          "name": "stderr",
          "text": [
            "/usr/local/lib/python3.7/dist-packages/sklearn/neural_network/_multilayer_perceptron.py:696: ConvergenceWarning: Stochastic Optimizer: Maximum iterations (20) reached and the optimization hasn't converged yet.\n",
            "  ConvergenceWarning,\n"
          ]
        },
        {
          "output_type": "stream",
          "name": "stdout",
          "text": [
            "\n",
            "Label = identity_hate\n",
            "|              |   precision |   recall |   f1-score |      support |\n",
            "|:-------------|------------:|---------:|-----------:|-------------:|\n",
            "| 0            |    0.993188 | 0.99633  |   0.994757 | 31610        |\n",
            "| 1            |    0.434146 | 0.291803 |   0.34902  |   305        |\n",
            "| accuracy     |    0.989597 | 0.989597 |   0.989597 |     0.989597 |\n",
            "| macro avg    |    0.713667 | 0.644067 |   0.671888 | 31915        |\n",
            "| weighted avg |    0.987846 | 0.989597 |   0.988586 | 31915        |\n",
            "AUC: 0.6440667769589412\n",
            "\n",
            "Average AUC: 0.7492100378988423\n"
          ]
        }
      ]
    },
    {
      "cell_type": "markdown",
      "source": [
        "## MLP (GLOVE)"
      ],
      "metadata": {
        "id": "WKrtjb-pWO_u"
      }
    },
    {
      "cell_type": "code",
      "source": [
        "mlp_classifier = MLPClassifier(max_iter=20)\n",
        "average_roc = 0\n",
        "    \n",
        "for label in TOXIC_LABELS:\n",
        "    mlp_classifier.fit(train_df[\"glove_vector\"].to_list()[:val_cut_off], train_df[label][:val_cut_off])\n",
        "    predictions = mlp_classifier.predict(train_df[\"glove_vector\"].to_list()[val_cut_off:])\n",
        "    print(f'\\nLabel = {label}')\n",
        "    report = classification_report(validation_set[label], predictions, output_dict=True)\n",
        "    df = pd.DataFrame(report).transpose()\n",
        "    print(df.to_markdown())\n",
        "    print(f'AUC: {roc_auc_score(validation_set[label], predictions)}\\n')\n",
        "    average_roc += roc_auc_score(validation_set[label], predictions)\n",
        "                                 \n",
        "print(f'Average AUC: {average_roc/len(TOXIC_LABELS)}')"
      ],
      "metadata": {
        "id": "HjuHQQpoWQaH",
        "colab": {
          "base_uri": "https://localhost:8080/"
        },
        "outputId": "13cb702e-cad9-420c-9607-7c8df527f65c"
      },
      "execution_count": null,
      "outputs": [
        {
          "output_type": "stream",
          "name": "stderr",
          "text": [
            "/usr/local/lib/python3.7/dist-packages/sklearn/neural_network/_multilayer_perceptron.py:696: ConvergenceWarning: Stochastic Optimizer: Maximum iterations (20) reached and the optimization hasn't converged yet.\n",
            "  ConvergenceWarning,\n"
          ]
        },
        {
          "output_type": "stream",
          "name": "stdout",
          "text": [
            "\n",
            "Label = toxic\n",
            "|              |   precision |   recall |   f1-score |      support |\n",
            "|:-------------|------------:|---------:|-----------:|-------------:|\n",
            "| 0            |    0.933624 | 0.984867 |   0.958562 | 28878        |\n",
            "| 1            |    0.699036 | 0.334211 |   0.452217 |  3037        |\n",
            "| accuracy     |    0.922952 | 0.922952 |   0.922952 |     0.922952 |\n",
            "| macro avg    |    0.81633  | 0.659539 |   0.705389 | 31915        |\n",
            "| weighted avg |    0.911301 | 0.922952 |   0.910378 | 31915        |\n",
            "AUC: 0.6595393829543212\n",
            "\n"
          ]
        },
        {
          "output_type": "stream",
          "name": "stderr",
          "text": [
            "/usr/local/lib/python3.7/dist-packages/sklearn/neural_network/_multilayer_perceptron.py:696: ConvergenceWarning: Stochastic Optimizer: Maximum iterations (20) reached and the optimization hasn't converged yet.\n",
            "  ConvergenceWarning,\n"
          ]
        },
        {
          "output_type": "stream",
          "name": "stdout",
          "text": [
            "\n",
            "Label = severe_toxic\n",
            "|              |   precision |   recall |   f1-score |      support |\n",
            "|:-------------|------------:|---------:|-----------:|-------------:|\n",
            "| 0            |    0.992751 | 0.996709 |   0.994726 | 31604        |\n",
            "| 1            |    0.437838 | 0.26045  |   0.326613 |   311        |\n",
            "| accuracy     |    0.989535 | 0.989535 |   0.989535 |     0.989535 |\n",
            "| macro avg    |    0.715295 | 0.62858  |   0.66067  | 31915        |\n",
            "| weighted avg |    0.987344 | 0.989535 |   0.988216 | 31915        |\n",
            "AUC: 0.6285797190391871\n",
            "\n"
          ]
        },
        {
          "output_type": "stream",
          "name": "stderr",
          "text": [
            "/usr/local/lib/python3.7/dist-packages/sklearn/neural_network/_multilayer_perceptron.py:696: ConvergenceWarning: Stochastic Optimizer: Maximum iterations (20) reached and the optimization hasn't converged yet.\n",
            "  ConvergenceWarning,\n"
          ]
        },
        {
          "output_type": "stream",
          "name": "stdout",
          "text": [
            "\n",
            "Label = obscene\n",
            "|              |   precision |   recall |   f1-score |      support |\n",
            "|:-------------|------------:|---------:|-----------:|-------------:|\n",
            "| 0            |    0.961926 | 0.991503 |   0.976491 | 30246        |\n",
            "| 1            |    0.652233 | 0.288796 |   0.400332 |  1669        |\n",
            "| accuracy     |    0.954755 | 0.954755 |   0.954755 |     0.954755 |\n",
            "| macro avg    |    0.807079 | 0.640149 |   0.688411 | 31915        |\n",
            "| weighted avg |    0.94573  | 0.954755 |   0.94636  | 31915        |\n",
            "AUC: 0.6401493473509235\n",
            "\n"
          ]
        },
        {
          "output_type": "stream",
          "name": "stderr",
          "text": [
            "/usr/local/lib/python3.7/dist-packages/sklearn/neural_network/_multilayer_perceptron.py:696: ConvergenceWarning: Stochastic Optimizer: Maximum iterations (20) reached and the optimization hasn't converged yet.\n",
            "  ConvergenceWarning,\n"
          ]
        },
        {
          "output_type": "stream",
          "name": "stdout",
          "text": [
            "\n",
            "Label = threat\n",
            "|              |   precision |   recall |   f1-score |      support |\n",
            "|:-------------|------------:|---------:|-----------:|-------------:|\n",
            "| 0            |    0.997335 | 0.99956  |   0.998446 | 31823        |\n",
            "| 1            |    0.333333 | 0.076087 |   0.123894 |    92        |\n",
            "| accuracy     |    0.996898 | 0.996898 |   0.996898 |     0.996898 |\n",
            "| macro avg    |    0.665334 | 0.537824 |   0.56117  | 31915        |\n",
            "| weighted avg |    0.995421 | 0.996898 |   0.995925 | 31915        |\n",
            "AUC: 0.5378235115701114\n",
            "\n"
          ]
        },
        {
          "output_type": "stream",
          "name": "stderr",
          "text": [
            "/usr/local/lib/python3.7/dist-packages/sklearn/neural_network/_multilayer_perceptron.py:696: ConvergenceWarning: Stochastic Optimizer: Maximum iterations (20) reached and the optimization hasn't converged yet.\n",
            "  ConvergenceWarning,\n"
          ]
        },
        {
          "output_type": "stream",
          "name": "stdout",
          "text": [
            "\n",
            "Label = insult\n",
            "|              |   precision |   recall |   f1-score |      support |\n",
            "|:-------------|------------:|---------:|-----------:|-------------:|\n",
            "| 0            |    0.964402 | 0.988692 |   0.976396 | 30333        |\n",
            "| 1            |    0.580685 | 0.300253 |   0.395833 |  1582        |\n",
            "| accuracy     |    0.954567 | 0.954567 |   0.954567 |     0.954567 |\n",
            "| macro avg    |    0.772543 | 0.644473 |   0.686115 | 31915        |\n",
            "| weighted avg |    0.945381 | 0.954567 |   0.947618 | 31915        |\n",
            "AUC: 0.6444725139656096\n",
            "\n"
          ]
        },
        {
          "output_type": "stream",
          "name": "stderr",
          "text": [
            "/usr/local/lib/python3.7/dist-packages/sklearn/neural_network/_multilayer_perceptron.py:696: ConvergenceWarning: Stochastic Optimizer: Maximum iterations (20) reached and the optimization hasn't converged yet.\n",
            "  ConvergenceWarning,\n"
          ]
        },
        {
          "output_type": "stream",
          "name": "stdout",
          "text": [
            "\n",
            "Label = identity_hate\n",
            "|              |   precision |    recall |   f1-score |      support |\n",
            "|:-------------|------------:|----------:|-----------:|-------------:|\n",
            "| 0            |    0.991138 | 0.997786  |   0.994451 | 31610        |\n",
            "| 1            |    0.247312 | 0.0754098 |   0.115578 |   305        |\n",
            "| accuracy     |    0.988971 | 0.988971  |   0.988971 |     0.988971 |\n",
            "| macro avg    |    0.619225 | 0.536598  |   0.555014 | 31915        |\n",
            "| weighted avg |    0.98403  | 0.988971  |   0.986052 | 31915        |\n",
            "AUC: 0.5365976734899206\n",
            "\n",
            "Average AUC: 0.6078603580616789\n"
          ]
        }
      ]
    },
    {
      "cell_type": "code",
      "source": [
        ""
      ],
      "metadata": {
        "id": "NrIwJNa_hk8k"
      },
      "execution_count": null,
      "outputs": []
    },
    {
      "cell_type": "code",
      "source": [
        ""
      ],
      "metadata": {
        "id": "jaiL1mxyxpV3"
      },
      "execution_count": null,
      "outputs": []
    }
  ],
  "metadata": {
    "colab": {
      "collapsed_sections": [],
      "name": "CSCK507 Week5 Individual Assignment",
      "provenance": []
    },
    "kernelspec": {
      "display_name": "Python 3",
      "name": "python3"
    },
    "language_info": {
      "name": "python"
    }
  },
  "nbformat": 4,
  "nbformat_minor": 0
}